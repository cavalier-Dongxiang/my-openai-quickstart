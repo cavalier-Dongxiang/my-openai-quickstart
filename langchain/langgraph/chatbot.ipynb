{
 "cells": [
  {
   "cell_type": "markdown",
   "id": "ea75a444",
   "metadata": {},
   "source": [
    "# LangGraph ChatBot 开发指南\n",
    "\n",
    "LangGraph 是一个灵活的 Agent 开发框架，可以帮助您设计复杂的对话工作流和智能代理。\n",
    "\n",
    "本指南将指导您如何使用 LangGraph 构建一个支持**多轮对话的智能客服（聊天机器人）**。\n",
    "\n",
    "我们将从一个基础的聊天机器人开始，逐步添加更多高级功能，并介绍关键的 LangGraph 概念。\n",
    "\n",
    "通过以下几个部分的学习，您将掌握如何逐步构建、增强和管理该聊天机器人。\n",
    "\n",
    "1. **构建Chatbot**： 基于 GPT-4o-mini 构建基础聊天机器人\n",
    "2. **联网查询工具**：为聊天机器人添加工具（结合网络搜索回答问题）\n",
    "3. **增加记忆系统**：在多次调用中保持对话状态\n",
    "4. **人工介入对话**：将复杂查询路由给人工审查或手动更新内容\n",
    "5. **查询历史对话**：通过状态图状态和配置查看/打印历史对话\n",
    "----------\n",
    "\n"
   ]
  },
  {
   "cell_type": "markdown",
   "id": "771ff467-f475-4461-b1c1-3678fbf64298",
   "metadata": {},
   "source": [
    "## LangGraph 核心对象介绍\n",
    "\n",
    "#### **StateGraph 对象**\n",
    "\n",
    "`StateGraph` 是 LangGraph 中的核心概念之一，它定义了聊天机器人或其他任务处理流程的结构。它是一种状态机，通过节点（nodes）和边（edges）来表示系统的状态变化。以下是 `StateGraph` 的关键点：\n",
    "\n",
    "- **定义流程图**：`StateGraph` 是用来创建流程图的对象，图中的每个节点代表一个任务或计算步骤（如调用 LLM、工具或函数），每个边（edge）定义了从一个节点到下一个节点的流向。\n",
    "  \n",
    "- **状态管理**：`StateGraph` 通过状态（`State`）来管理流程中的数据和上下文。每个节点都会接收当前的状态，并且返回一个更新后的状态。这种机制保证了在多轮对话或任务中，机器人能够持续维护上下文信息。\n",
    "\n",
    "- **消息更新**：在 `StateGraph` 中，我们可以定义如何更新状态，例如使用 `add_messages` 函数，表示将消息追加到已有的消息列表，而不是覆盖旧消息。\n",
    "\n",
    "#### StateGraph 的使用步骤\n",
    "1. **定义 State**：首先需要定义状态（`State`），例如用字典来存储消息、工具调用的结果等内容。\n",
    "2. **添加节点**：每个节点表示一个任务单元，可以是任意的 Python 函数。\n",
    "3. **添加边**：通过 `add_edge()` 方法指定节点之间的流向，例如从聊天节点到工具节点，再到结束节点。\n",
    "4. **编译图**：通过 `compile()` 方法将流程图编译为可执行的 `CompiledGraph`。\n",
    "\n",
    "-----------\n",
    "\n",
    "#### **CompiledGraph 对象**\n",
    "\n",
    "`CompiledGraph` 是由 `StateGraph` 编译得到的实际可执行对象。它负责执行在 `StateGraph` 中定义的流程，并处理每个节点的任务。`CompiledGraph` 通过状态的流动来管理整个对话或任务的执行。以下是 `CompiledGraph` 的关键点：\n",
    "\n",
    "- **流程执行**：`CompiledGraph` 是 `StateGraph` 的实际运行版本。当你调用 `stream()` 或 `invoke()` 方法时，它会依次执行图中的节点，并根据每个节点的输出状态决定下一个节点的执行。\n",
    "\n",
    "- **状态检查点（Checkpointing）**：通过使用检查点机制，`CompiledGraph` 可以在每个节点执行完后保存当前的状态，允许任务暂停并在之后恢复。例如，您可以为机器人添加记忆功能或支持“时间旅行”（回到之前的某个状态点）。\n",
    "\n",
    "- **动态路由**：`CompiledGraph` 还支持动态路由（Conditional Edges），允许根据当前状态动态决定下一步执行的节点。这使得机器人可以根据上下文或工具的输出灵活地调整行为。\n",
    "\n",
    "------------\n",
    "\n",
    "#### 关系总结\n",
    "\n",
    "- `StateGraph` 用于定义和构建一个聊天机器人或任务处理流程的结构，通过节点和边来管理流程和状态的流动。\n",
    "- `CompiledGraph` 是 `StateGraph` 编译后的版本，负责实际的流程执行、状态管理和检查点保存。\n",
    "\n",
    "它们结合在一起，提供了一个灵活、可扩展的方式来构建复杂的多步骤对话机器人或任务执行系统。\n",
    "\n",
    "------------"
   ]
  },
  {
   "cell_type": "markdown",
   "id": "bfa6d74b-5d3c-44c3-b6b6-794f82f366b8",
   "metadata": {},
   "source": [
    "## LangGraph 核心方法介绍\n",
    "\n",
    "`graph.stream` 是 LangGraph 中的一个核心方法，用于执行编译后的状态图（`CompiledGraph`）并以流式（streaming）的方式处理每个节点。通过 `stream` 方法，系统可以逐步执行对话或任务的每个步骤，并在每一步中返回中间结果。这种方式特别适用于长时间任务、逐步处理的工具调用或连续的对话。\n",
    "\n",
    "### `graph.stream` 的核心功能\n",
    "\n",
    "1. **流式执行**：\n",
    "   - `graph.stream` 允许您在每个节点执行时获得结果，类似于生成器的工作方式。在对话或任务流程中，机器人每经过一个节点（如调用工具、获取外部数据、与用户对话），都会返回该节点的执行结果。这使得系统可以逐步处理复杂的任务或多轮对话，而不是一次性等待所有步骤完成。\n",
    "\n",
    "2. **中间状态反馈**：\n",
    "   - 使用 `stream` 方法时，开发者可以在每一步获得当前的中间状态（如对话消息、工具调用的结果）。这对于调试、错误处理和用户实时反馈非常有帮助。\n",
    "   - 比如，在对话中，系统可以在用户输入每一条消息后逐步处理，逐步生成回答，而不是一次性返回最终结果。\n",
    "\n",
    "3. **支持多轮对话**：\n",
    "   - 通过 `stream`，可以让机器人保持对话的状态，使其能够处理复杂的多轮对话。系统在每一步都会保存对话的上下文，并在接收到新消息时恢复对话的状态，继续处理。\n",
    "\n",
    "4. **支持工具调用和多节点执行**：\n",
    "   - `stream` 方法不仅支持对话，还可以用于工具调用等任务。在每个工具节点执行时，系统会返回工具的执行结果，允许您对每个步骤的输出进行检查或处理。\n",
    "   - 它特别适合那些需要多个步骤或节点共同执行的任务，保证每个节点依次运行。\n",
    "\n",
    "---\n",
    "\n",
    "### 典型用法（涵盖1-3部分的重要功能）\n",
    "\n",
    "#### 1. 执行对话\n",
    "\n",
    "```python\n",
    "config = {\"configurable\": {\"thread_id\": \"1\"}}\n",
    "user_input = \"Hi, can you tell me today's weather?\"\n",
    "\n",
    "# 使用 stream 方法来执行对话\n",
    "events = graph.stream(\n",
    "    {\"messages\": [(\"user\", user_input)]},  # 传入用户的输入消息\n",
    "    config,  # 对话线程配置，用于标识对话的唯一 ID\n",
    "    stream_mode=\"values\"  # 以流式返回数据\n",
    ")\n",
    "\n",
    "# 遍历每个事件，并输出机器人生成的消息\n",
    "for event in events:\n",
    "    print(event[\"messages\"][-1].content)  # 打印最后一条消息的内容\n",
    "```\n",
    "\n",
    "在这个示例中，`graph.stream` 逐步处理用户的输入，并返回每个步骤的结果。由于使用了 `stream_mode=\"values\"`，系统以流式返回对话的中间结果。\n",
    "\n",
    "#### 2. 执行工具调用\n",
    "\n",
    "```python\n",
    "user_input = \"Please search for the latest news about AI.\"\n",
    "config = {\"configurable\": {\"thread_id\": \"2\"}}\n",
    "\n",
    "# 使用 stream 方法来执行带有工具调用的任务\n",
    "events = graph.stream(\n",
    "    {\"messages\": [(\"user\", user_input)]},  # 用户输入的消息\n",
    "    config,\n",
    "    stream_mode=\"values\"\n",
    ")\n",
    "\n",
    "# 遍历事件，获取工具的调用结果\n",
    "for event in events:\n",
    "    if \"messages\" in event:\n",
    "        # 打印工具的调用结果或机器人回复\n",
    "        print(event[\"messages\"][-1].content)\n",
    "```\n",
    "\n",
    "这个示例展示了如何通过 `graph.stream` 执行包含工具调用的任务。每个工具的调用结果都会在事件中返回，并且可以即时处理和反馈。\n",
    "\n",
    "---\n",
    "\n",
    "### `graph.stream` 的参数\n",
    "\n",
    "- **`inputs`**：输入的字典数据，通常包含对话的消息（如 `{\"messages\": [(\"user\", user_input)]}`），表示用户输入了什么信息。`inputs` 是机器人任务的初始数据。\n",
    "- **`config`**：配置参数，用于指定对话线程 ID、流执行模式等选项。它允许为每个对话或任务指定唯一的标识符，以便系统可以跟踪对话的上下文或任务状态。\n",
    "- **`stream_mode`**：指定返回数据的模式。常见的取值是 `\"values\"`，表示返回处理结果的流式数据。其他模式也可以根据具体需求进行调整。\n",
    "\n",
    "---\n",
    "\n",
    "### 适用场景\n",
    "\n",
    "1. **多轮对话机器人**：在复杂的对话场景中，用户可能与机器人进行多轮对话，并且希望机器人能够持续记住对话上下文。`graph.stream` 允许在每一轮对话中返回中间结果，并保持对话的流畅性和连贯性。\n",
    "  \n",
    "2. **逐步执行复杂任务**：例如，机器人在执行需要多个步骤的任务时，可以通过 `stream` 方法在每个步骤执行完后返回结果，而不是一次性执行整个任务。这种逐步处理的机制可以确保任务的每一步都被正确执行，并且可以随时处理异常情况。\n",
    "\n",
    "3. **实时反馈**：在实时应用中，用户希望能够尽快获得机器人的反馈。通过 `graph.stream`，系统可以在每个步骤中即时返回处理结果，让用户感受到流畅的交互体验。\n",
    "\n",
    "---\n",
    "\n",
    "### 总结\n",
    "\n",
    "`graph.stream` 是一个强大的工具，用于以流式处理对话和任务的每个步骤。它特别适合那些需要逐步执行和处理的任务场景，如多轮对话、复杂的工具调用或任务处理。通过 `stream`，系统可以在每一步中即时返回结果，并保持任务或对话的上下文信息。\n",
    "\n",
    "-----"
   ]
  },
  {
   "cell_type": "markdown",
   "id": "77f3f01c-21f0-47be-a32b-3895f46f1b65",
   "metadata": {},
   "source": [
    "## 第 1 部分：构建基础聊天机器人\n",
    "\n",
    "我们将首先使用 LangGraph 创建一个简单的聊天机器人。该机器人将直接响应用户消息。虽然简单，但它将展示 LangGraph 构建的核心概念。在本部分结束时，您将构建一个基础的聊天机器人。\n",
    "\n",
    "### 1. 安装依赖包\n",
    "\n",
    "首先，安装所需的软件包："
   ]
  },
  {
   "cell_type": "code",
   "execution_count": 1,
   "id": "bcd46847",
   "metadata": {},
   "outputs": [],
   "source": [
    "## 不能执行，要指定版本\n",
    "\n",
    "# %%capture --no-stderr\n",
    "# 安装 LangGraph 和 LangSmith，用于状态图和跟踪\n",
    "# %pip install -U langgraph langsmith"
   ]
  },
  {
   "cell_type": "code",
   "execution_count": 4,
   "id": "912cc0f3-5769-42a5-9611-e265e2ba05dc",
   "metadata": {},
   "outputs": [
    {
     "name": "stdout",
     "output_type": "stream",
     "text": [
      "unstructured 0.12.6 has requirement typing-extensions==4.9.0, but you have typing-extensions 4.11.0.\n",
      "Note: you may need to restart the kernel to use updated packages.\n"
     ]
    }
   ],
   "source": [
    "pip check"
   ]
  },
  {
   "cell_type": "code",
   "execution_count": 3,
   "id": "ae84013c-b7a1-4013-b5ab-76b12dd50ea8",
   "metadata": {},
   "outputs": [
    {
     "name": "stdout",
     "output_type": "stream",
     "text": [
      "2.9.1\n"
     ]
    }
   ],
   "source": [
    "import pydantic\n",
    "print(pydantic.__version__)"
   ]
  },
  {
   "cell_type": "markdown",
   "id": "e9cb2298",
   "metadata": {},
   "source": [
    "### 2. 设置 LangSmith API 密钥"
   ]
  },
  {
   "cell_type": "code",
   "execution_count": 4,
   "id": "d9db1b1d",
   "metadata": {},
   "outputs": [],
   "source": [
    "import os\n",
    "\n",
    "# 开启 LangSmith 跟踪，便于调试和查看详细执行信息\n",
    "os.environ[\"LANGCHAIN_TRACING_V2\"] = \"false\"\n",
    "os.environ[\"LANGCHAIN_PROJECT\"] = \"ChatBot\""
   ]
  },
  {
   "cell_type": "markdown",
   "id": "eeb060c3",
   "metadata": {},
   "source": [
    "### 3. 定义聊天机器人的状态图 `StateGraph`\n",
    "\n",
    "我们将添加节点以表示聊天机器人的逻辑和功能，并添加边来指定如何在功能之间进行转换。\n",
    "\n",
    "#### 代码解析\n",
    "\n",
    "当定义一个状态图时，首先要定义图的状态 `State`。`State` 包含图的状态结构以及 reducer 函数，它们指定如何应用状态更新。\n",
    "\n",
    "在本例中，`State` 是一个带有单一键 `messages` 的 `TypedDict`，该键使用 `add_messages` 函数作为注解，告诉 LangGraph 应该将新消息追加到现有消息列表中，而不是覆盖它。\n",
    "\n",
    "没有注解的状态键将被覆盖，存储最新的值。"
   ]
  },
  {
   "cell_type": "code",
   "execution_count": 5,
   "id": "a959d214",
   "metadata": {},
   "outputs": [],
   "source": [
    "from typing import Annotated\n",
    "from typing_extensions import TypedDict\n",
    "from langgraph.graph import StateGraph, START, END\n",
    "from langgraph.graph.message import add_messages\n",
    "\n",
    "# 定义状态类型，继承自 TypedDict，并使用 add_messages 函数将消息追加到现有列表\n",
    "class State(TypedDict):\n",
    "    messages: Annotated[list, add_messages]\n",
    "\n",
    "# 创建一个状态图对象，传入状态定义\n",
    "graph_builder = StateGraph(State)"
   ]
  },
  {
   "cell_type": "markdown",
   "id": "c4950d16",
   "metadata": {},
   "source": [
    "现在，状态图知道了两件事：\n",
    "\n",
    "1. 每个我们定义的节点都会接收当前的 `State` 作为输入，并返回一个更新该状态的值。\n",
    "2. `messages` 将追加到当前列表中，而不是直接覆盖。这通过 `Annotated` 语法中的预构建 `add_messages` 函数传达。\n",
    "\n",
    "### 4. 添加聊天节点\n",
    "\n",
    "节点表示一个计算单元。它们通常是常规的 Python 函数。\n",
    "\n",
    "**代码解析：**\n",
    "\n",
    "聊天机器人节点函数（`chatbot`）接收当前的 `State` 作为输入，并返回一个包含更新后的 `messages` 列表的字典。这是所有 LangGraph 节点函数的基础模式。\n",
    "\n",
    "在 `State` 中的 `add_messages` 函数会将 LLM 的响应消息追加到现有的消息列表中。"
   ]
  },
  {
   "cell_type": "code",
   "execution_count": 6,
   "id": "58ebd752-3fa8-4b93-bf7d-6a74a257db9b",
   "metadata": {},
   "outputs": [],
   "source": [
    "from dotenv import load_dotenv\n",
    "import os\n",
    "from langchain_openai import ChatOpenAI\n",
    "\n",
    "# 加载 .env 文件\n",
    "load_dotenv()\n",
    "\n",
    "# 从环境变量中读取 API 密钥和 API 基础 URL\n",
    "openai_api_key = os.environ.get('OPENAI_API_KEY')\n",
    "openai_api_base = os.environ.get('OPENAI_API_BASE')\n",
    "model_type = os.environ.get('MODEL_TYPE')\n",
    "\n",
    "\n",
    "# # 初始化一个 GPT-4o-mini 模型\n",
    "# chat_model = ChatOpenAI(model=\"gpt-4o-mini\")\n",
    "# 初始化 ChatOpenAI 模型，指定使用的模型为 'gpt-3.5-turbo'\n",
    "chat_model = ChatOpenAI(\n",
    "    model=model_type,\n",
    "    openai_api_key=openai_api_key,\n",
    "    openai_api_base=openai_api_base\n",
    ")"
   ]
  },
  {
   "cell_type": "code",
   "execution_count": 7,
   "id": "1f1607f3",
   "metadata": {},
   "outputs": [],
   "source": [
    "\n",
    "\n",
    "# 定义聊天机器人的节点函数，接收当前状态并返回更新的消息列表\n",
    "def chatbot(state: State):\n",
    "    return {\"messages\": [chat_model.invoke(state[\"messages\"])]}\n",
    "\n",
    "# 第一个参数是唯一的节点名称，第二个参数是每次节点被调用时的函数或对象\n",
    "graph_builder.add_node(\"chatbot\", chatbot)"
   ]
  },
  {
   "cell_type": "code",
   "execution_count": null,
   "id": "18cfb202-c649-42cc-9f9f-d7d1ac491f84",
   "metadata": {},
   "outputs": [],
   "source": [
    "### 5. 定义聊天机器人对话流程（状态图的起终点）\n",
    "\n",
    "- **起点（START）**：每次运行时，从哪里开始工作。\n",
    "- **终点（END）**：每次运行此节点时，程序可以退出。"
   ]
  },
  {
   "cell_type": "code",
   "execution_count": 9,
   "id": "7f06c7de",
   "metadata": {},
   "outputs": [],
   "source": [
    "graph_builder.add_edge(START, \"chatbot\")\n",
    "graph_builder.add_edge(\"chatbot\", END)"
   ]
  },
  {
   "cell_type": "markdown",
   "id": "848f8d09",
   "metadata": {},
   "source": [
    "### 6. 编译图并可视化\n",
    "\n",
    "最后，我们需要能够运行我们的状态图。\n",
    "\n",
    "在图构建器上调用 `compile()`，这会创建一个可执行的 `CompiledGraph`对象。\n",
    "\n",
    "我们可以使用该图(`CompiledGraph`)来调用聊天机器人。"
   ]
  },
  {
   "cell_type": "code",
   "execution_count": 10,
   "id": "9ff06359",
   "metadata": {},
   "outputs": [
    {
     "data": {
      "image/jpeg": "[encoded data removed]",
      "text/plain": [
       "<IPython.core.display.Image object>"
      ]
     },
     "metadata": {},
     "output_type": "display_data"
    }
   ],
   "source": [
    "# 编译状态图并生成可执行图对象\n",
    "graph = graph_builder.compile()\n",
    "\n",
    "# 你可以使用 get_graph 方法来可视化图，并结合 draw 方法（如 draw_ascii 或 draw_png）\n",
    "from IPython.display import Image, display\n",
    "\n",
    "try:\n",
    "    display(Image(graph.get_graph().draw_mermaid_png()))\n",
    "except Exception:\n",
    "    pass"
   ]
  },
  {
   "cell_type": "markdown",
   "id": "7e7be101",
   "metadata": {},
   "source": [
    "### 7. 运行图\n",
    "\n",
    "**恭喜！您已经使用 LangGraph 构建了第一个聊天机器人。这个机器人可以通过接受用户输入并生成 LLM 回复来进行基本对话。**\n",
    "\n",
    "现在运行聊天机器人！\n",
    "\n",
    "#### 代码解析\n",
    "\n",
    "1. **聊天循环**：\n",
    "   - `while True:` 启动一个持续的聊天循环，用户可以不断输入问题或命令与聊天机器人互动。\n",
    "\n",
    "2. **获取用户输入**：\n",
    "   - 使用 `input(\"User: \")` 来获取用户的输入消息，并将其赋值给 `user_input` 变量。\n",
    "\n",
    "3. **退出条件**：\n",
    "   - 如果用户输入 `\"quit\"`、`\"exit\"` 或 `\"q\"`，系统会通过 `break` 语句退出聊天循环，结束程序运行。\n",
    "\n",
    "4. **将用户消息传递给聊天机器人**：\n",
    "   - 通过调用 `graph.stream({\"messages\": (\"user\", user_input)})`，将用户的输入传递给聊天机器人模型。`graph.stream` 方法会根据输入的消息生成相应的回复。\n",
    "   - 这里 `\"messages\": (\"user\", user_input)` 表示传递的是用户的输入消息。\n",
    "\n",
    "5. **处理机器人的回复**：\n",
    "   - 遍历 `event.values()` 中的每个值，从机器人生成的回复中提取最后一条消息，并使用 `print(\"Assistant:\", value[\"messages\"][-1].content)` 打印输出聊天机器人的回复内容。\n",
    "\n",
    "该代码是一个简单的聊天机器人框架，用户可以在命令行中输入问题，机器人会根据用户的输入实时生成回复。如果用户输入退出指令，程序会结束对话循环。"
   ]
  },
  {
   "cell_type": "code",
   "execution_count": null,
   "id": "12e6c741",
   "metadata": {},
   "outputs": [
    {
     "name": "stdin",
     "output_type": "stream",
     "text": [
      "User:  调用查询给出去香港旅行攻略\n"
     ]
    },
    {
     "name": "stdout",
     "output_type": "stream",
     "text": [
      "Assistant: \n",
      "Assistant: [{\"url\": \"https://www.klook.com/zh-CN/blog/things-to-do-hong-kong-attractions/\", \"content\": \"\\u9002\\u5408\\u4e00\\u5bb6\\u5927\\u5c0f\\u7684\\u9999\\u6e2f\\u65c5\\u884c\\u653b\\u7565!. \\u9999\\u6e2f\\u666f\\u70b9\\u4f17\\u591a\\uff0c\\u5305\\u62ec\\u7ef4\\u591a\\u5229\\u4e9a\\u6e2f\\u3001\\u592a\\u5e73\\u5c71\\u3001\\u9999\\u6e2f\\u8fea\\u58eb\\u5c3c\\u4e50\\u56ed\\u3001\\u6d77\\u6d0b\\u516c\\u56ed\\u3001\\u5929\\u9645100\\u3001\\u5927\\u5c7f\\u5c71\\u7b49\\u7b49\\uff0c\\u90fd\\u662f\\u5341\\u5206\\u70ed\\u95e8\\u7684\\u666f\\u70b9!. \\u800c\\u9999\\u6e2f\\u6700\\u8fd1\\u53c8\\u6709\\u54ea\\u4e9b\\u65b0\\u666f\\u70b9\\u503c\\u5f97\\u4e00\\u53bb\\u5462\\uff1f. \\u4ee5\\u4e0b\\u5c0f\\u7f16\\u6574\\u7406\\u4e86\\u9999\\u6e2f\\u5fc5\\u6253\\u5361\\u666f\\u70b9\\u52a0\\u4ee5\\u4ecb\\u7ecd\\uff0c\\u5982\\u679c\\u60f3\\u8981\\u524d\\u5f80\\u9999\\u6e2f\\u6e38\\u73a9 ...\"}, {\"url\": \"https://bobby.tw/2024-02-13-2931/\", \"content\": \"\\u9999\\u6e2f\\u8d85\\u597d\\u73a9!\\u9999\\u6e2f\\u65c5\\u904a\\u666f\\u9ede\\u6709\\u54ea\\u4e9b\\uff1f\\u9019\\u7bc72024\\u9999\\u6e2f\\u81ea\\u7531\\u884c\\u653b\\u7565 (\\u542b\\u6fb3\\u9580\\u81ea\\u7531\\u884c)\\uff0c\\u5f9e\\u9999\\u6e2f\\u884c\\u7a0b\\u63a8\\u85a6 (\\u9999\\u6e2f\\u4e09\\u5929\\u5169\\u591c\\u3001\\u56db\\u5929\\u4e09\\u591c\\u898f\\u5283)\\uff06\\u9999\\u6e2f\\u81ea\\u7531\\u884c\\u82b1\\u8cbb\\uff0c\\u5230\\u4fbf\\u5b9c\\u9999\\u6e2f\\u6a5f\\u7968\\u52a0\\u9152\\u5e97\\u3001\\u9999\\u6e2f\\u5fc5\\u53bb\\u666f\\u9ede\\u3001\\u4f4f\\u5bbf\\u7f8e\\u98df\\u5fc5\\u8cb7\\u7b49\\u9010\\u4e00\\u89e3\\u7b54\\u3002\"}]\n",
      "Assistant: 以下是一些关于香港旅行攻略的信息：\n",
      "\n",
      "1. **香港必打卡景点**：\n",
      "   - 维多利亚港、太平山、香港迪士尼乐园、海洋公园、天际100、大屿山等都是非常热门的景点。\n",
      "   - 香港最近又有哪些新景点值得一去呢？以下小编整理了香港必打卡景点加以介绍，如果想要前往香港游玩...\n",
      "\n",
      "2. **香港自由行攻略**：\n",
      "   - 香港超好玩！香港旅游景点有哪些？这篇2024香港自由行攻略（含澳门自由行），从香港行程推薦（香港三天两夜、四天三夜规划）＆香港自由行花费，到便宜香港机票加酒店、香港必去景点、住宿美食必买等逐一解答。\n",
      "\n",
      "这些信息可以帮助你规划香港的旅行，包括必去的景点、行程安排和预算等。希望你在香港有一个愉快的旅行体验！\n"
     ]
    }
   ],
   "source": [
    "# 开始一个简单的聊天循环\n",
    "while True:\n",
    "    # 获取用户输入\n",
    "    user_input = input(\"User: \")\n",
    "    \n",
    "    # 可以随时通过输入 \"quit\"、\"exit\" 或 \"q\" 退出聊天循环\n",
    "    if user_input.lower() in [\"quit\", \"exit\", \"q\"]:\n",
    "        print(\"Goodbye!\")  # 打印告别信息\n",
    "        break  # 结束循环，退出聊天\n",
    "\n",
    "    # 将每次用户输入的内容传递给 graph.stream，用于聊天机器人状态处理\n",
    "    # \"messages\": (\"user\", user_input) 表示传递的消息是用户输入的内容\n",
    "    for event in graph.stream({\"messages\": (\"user\", user_input)}):\n",
    "        \n",
    "        # 遍历每个事件的值\n",
    "        for value in event.values():\n",
    "            # 打印输出 chatbot 生成的最新消息\n",
    "            print(\"Assistant:\", value[\"messages\"][-1].content)"
   ]
  },
  {
   "cell_type": "markdown",
   "id": "497df061",
   "metadata": {},
   "source": [
    "--------------\n",
    "#### 运行结果分析\n",
    "\n",
    "问：详细介绍下 LangGraph 项目\n",
    "\n",
    "gpt-4o-mini 训练数据截止日期，在 LangGraph 项目推出前。\n",
    "\n",
    "因此，直接让模型生成 LangGraph 相关介绍时，会出现事实性的问题。\n",
    "\n"
   ]
  },
  {
   "cell_type": "markdown",
   "id": "a64039fb",
   "metadata": {},
   "source": [
    "## 第 2 部分：为聊天机器人添加工具\n",
    "\n",
    "为了处理我们聊天机器人无法“记住”回答的问题，我们将集成一个 Web 搜索工具 [Tavily Search](\n",
    "https://python.langchain.com/v0.2/docs/integrations/tools/tavily_search/)。\n",
    "\n",
    "我们的机器人可以使用这个工具找到相关信息，并提供更好的回复。\n",
    "\n",
    "### 1. 安装依赖并设置 Tavily API\n",
    "\n",
    "访问 [Tavily](https://tavily.com/) 官网，注册账号并生成你的 `TAVILY_API_KEY`。\n",
    "\n",
    "Tavily 提供 1000次/月的免费检索额度。\n",
    "\n",
    "在开始之前，确保您已安装 Tavily 搜索引擎所需的包并在环境变量中设置了 `TAVILY_API_KEY`。"
   ]
  },
  {
   "cell_type": "code",
   "execution_count": 1,
   "id": "9fe20f5f",
   "metadata": {},
   "outputs": [],
   "source": [
    "%%capture --no-stderr\n",
    "# 安装 Tavily 搜索引擎的 Python 包\n",
    "%pip install -U tavily-python\n",
    "# %pip install -U langchain_community"
   ]
  },
  {
   "cell_type": "code",
   "execution_count": 11,
   "id": "fb1758a2-7208-4aa4-8c60-4ec2e57b1783",
   "metadata": {},
   "outputs": [],
   "source": [
    "import getpass\n",
    "import os\n",
    "\n",
    "if not os.environ.get(\"TAVILY_API_KEY\"):\n",
    "    os.environ[\"TAVILY_API_KEY\"] = getpass.getpass(\"Tavily API key:\\n\")"
   ]
  },
  {
   "cell_type": "markdown",
   "id": "4448a461",
   "metadata": {},
   "source": [
    "### 2. 定义工具"
   ]
  },
  {
   "cell_type": "code",
   "execution_count": 12,
   "id": "5ec05131",
   "metadata": {},
   "outputs": [
    {
     "data": {
      "text/plain": [
       "[{'url': 'https://medium.com/@kbdhunga/langgraph-multi-agent-collaboration-explained-c0500b0f2e61',\n",
       "  'content': 'Nodes: Nodes in LangGraph represent individual units of computation or functionality within a graph. Nodes can be functions or runnables that perform specific tasks or operations.'},\n",
       " {'url': 'https://medium.com/@cplog/introduction-to-langgraph-a-beginners-guide-14f9be027141',\n",
       "  'content': 'Nodes: Nodes are the building blocks of your LangGraph. Each node represents a function or a computation step. You define nodes to perform specific tasks, such as processing input, making ...'}]"
      ]
     },
     "execution_count": 12,
     "metadata": {},
     "output_type": "execute_result"
    }
   ],
   "source": [
    "from langchain_community.tools.tavily_search import TavilySearchResults\n",
    "\n",
    "# 定义 Tavily 搜索工具，最大搜索结果数设置为 2\n",
    "tool = TavilySearchResults(max_results=2)\n",
    "tools = [tool]\n",
    "\n",
    "# 测试工具调用\n",
    "tool.invoke(\"What's a 'node' in LangGraph?\")"
   ]
  },
  {
   "cell_type": "markdown",
   "id": "07ba26bd",
   "metadata": {},
   "source": [
    "-----------------------------\n",
    "#### 搜索工具结果 如上所示\n",
    "\n",
    "工具返回的是页面摘要，供我们的聊天机器人用于回答问题。\n",
    "\n",
    "### 3. 将工具集成到状态图中\n",
    "\n",
    "以下步骤与第 1 部分类似，只不过我们在 `LLM` 上添加了 `bind_tools`，这使得 LLM 可以在需要时调用搜索工具。"
   ]
  },
  {
   "cell_type": "code",
   "execution_count": 13,
   "id": "f8675518-c6f6-45f3-9918-19901550d7fe",
   "metadata": {},
   "outputs": [],
   "source": [
    "from dotenv import load_dotenv\n",
    "import os\n",
    "from langchain_openai import ChatOpenAI\n",
    "\n",
    "# 加载 .env 文件\n",
    "load_dotenv()\n",
    "\n",
    "# 从环境变量中读取 API 密钥和 API 基础 URL\n",
    "openai_api_key = os.environ.get('OPENAI_API_KEY')\n",
    "openai_api_base = os.environ.get('OPENAI_API_BASE')\n",
    "model_type = os.environ.get('MODEL_TYPE')\n",
    "\n",
    "\n",
    "# # # 初始化一个 GPT-4o-mini 模型\n",
    "# # chat_model = ChatOpenAI(model=\"gpt-4o-mini\")\n",
    "# # 初始化 ChatOpenAI 模型，指定使用的模型为 'gpt-3.5-turbo'\n",
    "# chat_model = ChatOpenAI(\n",
    "#     model=model_type,\n",
    "#     openai_api_key=openai_api_key,\n",
    "#     openai_api_base=openai_api_base\n",
    "# )"
   ]
  },
  {
   "cell_type": "code",
   "execution_count": 14,
   "id": "32631ea0",
   "metadata": {},
   "outputs": [],
   "source": [
    "from typing import Annotated\n",
    "from langchain_openai import ChatOpenAI\n",
    "from typing_extensions import TypedDict\n",
    "from langgraph.graph import StateGraph, START\n",
    "from langgraph.graph.message import add_messages\n",
    "\n",
    "# 定义状态\n",
    "class State(TypedDict):\n",
    "    messages: Annotated[list, add_messages]\n",
    "\n",
    "graph_builder = StateGraph(State)\n",
    "\n",
    "# 初始化 LLM 并绑定搜索工具\n",
    "chat_model = ChatOpenAI( model=model_type,\n",
    "    openai_api_key=openai_api_key,\n",
    "    openai_api_base=openai_api_base)\n",
    "llm_with_tools = chat_model.bind_tools(tools)\n",
    "\n",
    "# 更新聊天机器人节点函数，支持工具调用\n",
    "def chatbot(state: State):\n",
    "    return {\"messages\": [llm_with_tools.invoke(state[\"messages\"])]}\n",
    "\n",
    "# 将更新后的节点添加到状态图中\n",
    "graph_builder.add_node(\"chatbot\", chatbot)"
   ]
  },
  {
   "cell_type": "markdown",
   "id": "9c8c99bb",
   "metadata": {},
   "source": [
    "\n",
    "### 4. 处理工具调用\n",
    "\n",
    "我们需要创建一个函数来运行工具。我们通过向图中添加一个新节点来实现这一点。\n",
    "\n"
   ]
  },
  {
   "cell_type": "code",
   "execution_count": 15,
   "id": "7e8e3ba9",
   "metadata": {},
   "outputs": [],
   "source": [
    "import json\n",
    "from langchain_core.messages import ToolMessage\n",
    "\n",
    "# 定义 BasicToolNode，用于执行工具请求\n",
    "class BasicToolNode:\n",
    "    \"\"\"一个在最后一条 AIMessage 中执行工具请求的节点。\n",
    "    \n",
    "    该节点会检查最后一条 AI 消息中的工具调用请求，并依次执行这些工具调用。\n",
    "    \"\"\"\n",
    "\n",
    "    def __init__(self, tools: list) -> None:\n",
    "        # tools 是一个包含所有可用工具的列表，我们将其转化为字典，\n",
    "        # 通过工具名称（tool.name）来访问具体的工具\n",
    "        self.tools_by_name = {tool.name: tool for tool in tools}\n",
    "\n",
    "    def __call__(self, inputs: dict):\n",
    "        \"\"\"执行工具调用\n",
    "        \n",
    "        参数:\n",
    "        inputs: 包含 \"messages\" 键的字典，\"messages\" 是对话消息的列表，\n",
    "                其中最后一条消息可能包含工具调用的请求。\n",
    "        \n",
    "        返回:\n",
    "        包含工具调用结果的消息列表\n",
    "        \"\"\"\n",
    "        # 获取消息列表中的最后一条消息，判断是否包含工具调用请求\n",
    "        if messages := inputs.get(\"messages\", []):\n",
    "            message = messages[-1]\n",
    "        else:\n",
    "            raise ValueError(\"输入中未找到消息\")\n",
    "\n",
    "        # 用于保存工具调用的结果\n",
    "        outputs = []\n",
    "\n",
    "        # 遍历工具调用请求，执行工具并将结果返回\n",
    "        for tool_call in message.tool_calls:\n",
    "            # 根据工具名称找到相应的工具，并调用工具的 invoke 方法执行工具\n",
    "            tool_result = self.tools_by_name[tool_call[\"name\"]].invoke(\n",
    "                tool_call[\"args\"]\n",
    "            )\n",
    "            # 将工具调用结果作为 ToolMessage 保存下来\n",
    "            outputs.append(\n",
    "                ToolMessage(\n",
    "                    content=json.dumps(tool_result),  # 工具调用的结果以 JSON 格式保存\n",
    "                    name=tool_call[\"name\"],  # 工具的名称\n",
    "                    tool_call_id=tool_call[\"id\"],  # 工具调用的唯一标识符\n",
    "                )\n",
    "            )\n",
    "        # 返回包含工具调用结果的消息\n",
    "        return {\"messages\": outputs}"
   ]
  },
  {
   "cell_type": "code",
   "execution_count": 16,
   "id": "75c139e4-af01-4cc8-987e-16b2ec82a662",
   "metadata": {},
   "outputs": [],
   "source": [
    "# 将 BasicToolNode 添加到状态图中\n",
    "tool_node = BasicToolNode(tools=[tool])\n",
    "graph_builder.add_node(\"tools\", tool_node)"
   ]
  },
  {
   "cell_type": "markdown",
   "id": "f833a146",
   "metadata": {},
   "source": [
    "\n",
    "### 5. 添加条件边\n",
    "\n",
    "条件边将控制流从一个节点路由到另一个节点。条件边通常包含 `if` 语句，以根据当前状态将控制流路由到不同的节点。\n",
    "\n",
    "#### 代码解析\n",
    "\n",
    "我们定义一个路由函数 `route_tools`，检查聊天机器人的输出中是否包含工具调用。此函数会在聊天机器人节点完成后检查，决定下一步走向工具节点还是结束对话。\n",
    "\n",
    "1. **`route_tools` 函数**：这是一个路由函数，用来决定机器人在对话流程中的下一步。它会检查状态中的最后一条消息，判断该消息是否包含工具调用请求。\n",
    "   - 如果有工具调用请求（通过 `tool_calls` 属性判断），返回 `\"tools\"`，表示需要执行工具节点。\n",
    "   - 如果没有工具调用请求，则返回 `\"__end__\"`，表示对话流程结束。\n",
    "\n",
    "2. **`add_conditional_edges`**：这是 LangGraph 中用于条件路由的函数。它允许我们根据 `route_tools` 函数的返回值决定下一个要执行的节点。比如：\n",
    "   - 如果返回值是 `\"tools\"`，则执行工具节点。\n",
    "   - 如果返回值是 `\"__end__\"`，则结束流程。\n",
    "\n",
    "3. **`add_edge`**：当工具节点执行完成后，机器人会返回到 `chatbot` 节点继续对话。\n",
    "\n",
    "4. **编译状态图**：最后，使用 `graph_builder.compile()` 编译状态图，生成一个 `CompiledGraph`，这个对象可以实际执行对话流程。"
   ]
  },
  {
   "cell_type": "code",
   "execution_count": 17,
   "id": "fafcaabc",
   "metadata": {},
   "outputs": [],
   "source": [
    "from typing import Literal\n",
    "\n",
    "# 定义路由函数，检查工具调用\n",
    "def route_tools(\n",
    "    state: State,\n",
    ") -> Literal[\"tools\", \"__end__\"]:\n",
    "    \"\"\"\n",
    "    使用条件边来检查最后一条消息中是否有工具调用。\n",
    "    \n",
    "    参数:\n",
    "    state: 状态字典或消息列表，用于存储当前对话的状态和消息。\n",
    "    \n",
    "    返回:\n",
    "    如果最后一条消息包含工具调用，返回 \"tools\" 节点，表示需要执行工具调用；\n",
    "    否则返回 \"__end__\"，表示直接结束流程。\n",
    "    \"\"\"\n",
    "    # 检查状态是否是列表类型（即消息列表），取最后一条 AI 消息\n",
    "    if isinstance(state, list):\n",
    "        ai_message = state[-1]\n",
    "    # 否则从状态字典中获取 \"messages\" 键，取最后一条消息\n",
    "    elif messages := state.get(\"messages\", []):\n",
    "        ai_message = messages[-1]\n",
    "    # 如果没有找到消息，则抛出异常\n",
    "    else:\n",
    "        raise ValueError(f\"输入状态中未找到消息: {state}\")\n",
    "\n",
    "    # 检查最后一条消息是否有工具调用请求\n",
    "    if hasattr(ai_message, \"tool_calls\") and len(ai_message.tool_calls) > 0:\n",
    "        return \"tools\"  # 如果有工具调用请求，返回 \"tools\" 节点\n",
    "    return \"__end__\"  # 否则返回 \"__end__\"，流程结束\n",
    "\n",
    "# 添加条件边，判断是否需要调用工具\n",
    "graph_builder.add_conditional_edges(\n",
    "    \"chatbot\",  # 从聊天机器人节点开始\n",
    "    route_tools,  # 路由函数，决定下一个节点\n",
    "    {\n",
    "        \"tools\": \"tools\", \n",
    "        \"__end__\": \"__end__\"\n",
    "    },  # 定义条件的输出，工具调用走 \"tools\"，否则走 \"__end__\"\n",
    ")\n",
    "\n",
    "# 当工具调用完成后，返回到聊天机器人节点以继续对话\n",
    "graph_builder.add_edge(\"tools\", \"chatbot\")\n",
    "\n",
    "# 指定从 START 节点开始，进入聊天机器人节点\n",
    "graph_builder.add_edge(START, \"chatbot\")"
   ]
  },
  {
   "cell_type": "markdown",
   "id": "47bdf00b",
   "metadata": {},
   "source": [
    "\n",
    "### 6. 编译图并可视化\n",
    "\n",
    "使用以下代码可视化构建的状态图：\n",
    "\n"
   ]
  },
  {
   "cell_type": "code",
   "execution_count": 18,
   "id": "8ca50a69-6dcc-4b6d-b9d7-3afedf260d6d",
   "metadata": {},
   "outputs": [],
   "source": [
    "# 编译状态图，生成可执行的流程图\n",
    "graph = graph_builder.compile()"
   ]
  },
  {
   "cell_type": "code",
   "execution_count": 19,
   "id": "e6206f1b",
   "metadata": {},
   "outputs": [
    {
     "data": {
      "image/jpeg": "[encoded data removed]",
      "text/plain": [
       "<IPython.core.display.Image object>"
      ]
     },
     "metadata": {},
     "output_type": "display_data"
    }
   ],
   "source": [
    "from IPython.display import Image, display\n",
    "\n",
    "try:\n",
    "    display(Image(graph.get_graph().draw_mermaid_png()))\n",
    "except Exception:\n",
    "    pass\n"
   ]
  },
  {
   "cell_type": "markdown",
   "id": "c9f90b11",
   "metadata": {},
   "source": [
    "### 7. 运行图\n",
    "\n",
    "现在，我们可以询问机器人超出其训练数据范围的问题。\n",
    "\n",
    "#### 代码解析\n",
    "\n",
    "1. **`while True` 循环**：\n",
    "   - 这是一个无限循环，用于保持对话的持续进行，直到用户输入退出命令为止。每次用户输入一条消息，系统都会将消息传递给机器人进行处理。\n",
    "\n",
    "2. **用户输入**：\n",
    "   - `input(\"User: \")` 用于从用户处获取输入信息，模拟与机器人对话的场景。\n",
    "   - 如果用户输入的是 `\"quit\"`、`\"exit\"` 或 `\"q\"`，系统将打印 `\"Goodbye!\"` 并退出循环，结束程序。\n",
    "\n",
    "3. **`graph.stream`**：\n",
    "   - `graph.stream({\"messages\": [(\"user\", user_input)]})` 会将用户的输入消息传递给状态图（graph）进行处理，`graph` 会根据流程生成相应的回复。\n",
    "   - `\"messages\": [(\"user\", user_input)]`：这是传递给机器人对话系统的输入消息，表示来自用户的输入内容。\n",
    "\n",
    "4. **遍历 `event.values()`**：\n",
    "   - `graph.stream` 会生成一系列的 `event`，每个 `event` 都包含机器人的响应消息。通过遍历 `event.values()`，我们可以获取每个消息的内容。\n",
    "   - 如果最后一条消息是 `BaseMessage` 类型（机器人回复），则通过 `print(\"Assistant:\", value[\"messages\"][-1].content)` 将机器人的回复输出到控制台。\n",
    "\n",
    "5. **`BaseMessage`**：\n",
    "   - `BaseMessage` 是 LangChain 中的消息类型，用于表示机器人和用户之间的消息。在这里，它用于确认从机器人生成的消息是否符合标准格式。"
   ]
  },
  {
   "cell_type": "code",
   "execution_count": 12,
   "id": "0ddd8960",
   "metadata": {},
   "outputs": [
    {
     "name": "stdin",
     "output_type": "stream",
     "text": [
      "User:  调用查询给出去香港旅行攻略\n"
     ]
    },
    {
     "name": "stdout",
     "output_type": "stream",
     "text": [
      "Assistant: \n",
      "Assistant: [{\"url\": \"https://www.discoverhongkong.com/hk-tc/explore/iconic-hong-kong-experiences.html\", \"content\": \"\\u9678\\u7fbd\\u8336\\u5ba4\\n\\u524d\\u5f80\\n{{title}}\\n{{taRatingReviewTotal}} {{taRatingReviewText}}\\n\\u5730\\u5740\\n{{address}}\\n\\u7db2\\u5740\\n{{website}}\\n\\u66f4\\u591a\\u8cc7\\u8a0a\\n\\u662f\\u5168\\u65e5\\u71df\\u696d\\u7684\\u50b3\\u7d71\\u8336\\u6a13\\uff0c\\u4f60\\u53ef\\u4ee5\\u5728\\u9019\\u88e1\\u4eab\\u7528\\u5730\\u9053\\u7684\\u9ede\\u5fc3\\u548c\\u7f8e\\u98df\\u3002\\u6b64\\u5916\\uff0c\\u53c9\\u71d2\\u98ef\\u548c\\u83e0\\u863f\\u6cb9\\u7b49\\u7279\\u8272\\u7f8e\\u98df\\uff0c\\u5728 \\u91d1\\u83ef\\u51b0\\u5ef3\\n\\u524d\\u5f80\\n{{title}}\\n{{taRatingReviewTotal}} {{taRatingReviewText}}\\n\\u5730\\u5740\\n{{address}}\\n\\u7db2\\u5740\\n{{website}}\\n\\u66f4\\u591a\\u8cc7\\u8a0a\\n\\u548c\\u65b0\\u6842\\u9999\\u7b49\\u8336\\u9910\\u5ef3\\u90fd\\u80fd\\u4eab\\u7528\\u5230\\u3002\\n\\u6253\\u5361\\u6587\\u9752\\u805a\\u8173\\u9ede\\n\\u4f4d\\u65bc\\u4e2d\\u74b0\\u7684 \\u5927\\u9928\\n\\u524d\\u5f80\\n{{title}}\\n{{taRatingReviewTotal}} {{taRatingReviewText}}\\n\\u5730\\u5740\\n{{address}}\\n\\u7db2\\u5740\\n{{website}}\\n\\u66f4\\u591a\\u8cc7\\u8a0a\\n\\uff0c\\u524d\\u8eab\\u662f\\u4e2d\\u5340\\u8b66\\u7f72\\uff0c\\u73fe\\u5df2\\u8b8a\\u8eab\\u6210\\u70ba\\u96c6\\u6b77\\u53f2\\u5efa\\u7bc9\\u3001\\u8868\\u6f14\\u3001\\u5c55\\u89bd\\u65bc\\u4e00\\u8eab\\u7684\\u85dd\\u6587\\u96c6\\u4e2d\\u5730\\u3002\\u5728\\u4e5d\\u9f8d\\uff0c \\u9999\\u6e2f\\u85dd\\u8853\\u9928\\n\\u524d\\u5f80\\n{{title}}\\n{{taRatingReviewTotal}} {{taRatingReviewText}}\\n\\u5730\\u5740\\n{{address}}\\n\\u7db2\\u5740\\n{{website}}\\n\\u66f4\\u591a\\u8cc7\\u8a0a\\n\\u5167\\u5c55\\u51fa\\u4e16\\u754c\\u7d1a\\u73cd\\u85cf\\uff1b\\u82e5\\u60f3\\u6b23\\u8cde\\u7cb5\\u5287\\uff0c\\u53bb\\u9644\\u8fd1\\u7684 \\u6232\\u66f2\\u4e2d\\u5fc3\\n\\u524d\\u5f80\\n{{title}}\\n{{taRatingReviewTotal}} {{taRatingReviewText}}\\n\\u5730\\u5740\\n{{address}}\\n\\u7db2\\u5740\\n{{website}}\\n\\u66f4\\u591a\\u8cc7\\u8a0a\\n\\u5c31\\u5c0d\\u4e86\\u3002\\u6b64\\u5916\\uff0c\\u4f60\\u9084\\u53ef\\u4ee5\\u4e58\\u8eca\\u5230\\u6df1\\u6c34\\u57d7\\uff0c\\u611f\\u53d7\\u7531\\u500b\\u6027\\u5c0f\\u5e97\\u548c\\u4f4f\\u5b85\\u5927\\u5ec8\\u7d44\\u6210\\u7684\\u4e00\\u5834\\u65b0\\u820a\\u4ea4\\u6703\\u3002\\n\\u767b\\u5c71\\u9060\\u8db3\\u8cde\\u666f\\n\\u5728\\u9999\\u6e2f\\u89aa\\u8fd1\\u81ea\\u7136\\u4e0d\\u662f\\u96e3\\u4e8b\\uff0c\\u767d\\u5929\\u53bb\\u9060\\u8db3\\u6216\\u5230\\u6d77\\u7058\\u66a2\\u6cf3\\uff0c\\u665a\\u9910\\u524d\\u4f60\\u5df2\\u7d93\\u53ef\\u4ee5\\u56de\\u5230\\u5e02\\u5340\\u597d\\u597d\\u4eab\\u53d7\\u7f8e\\u98df\\u3002\\u60f3\\u8981\\u767b\\u5c71\\u7684\\u8a71\\uff0c\\u9664\\u4e86\\u9f8d\\u810a\\uff0c\\u897f\\u8ca2\\u4e5f\\u662f\\u4e0d\\u932f\\u7684\\u9078\\u64c7\\u3002\\u897f\\u8ca2\\u64c1\\u6709\\u9577100\\u516c\\u91cc\\u7684\\u9ea5\\u7406\\u6d69\\u5f91\\u3001\\u8655\\u8655\\u5947\\u77f3\\u7684 \\u9999\\u6e2f\\u5730\\u8cea\\u516c\\u5712\\n\\u524d\\u5f80\\n{{title}}\\n{{taRatingReviewTotal}} {{taRatingReviewText}}\\n\\u5730\\u5740\\n{{address}}\\n\\u7db2\\u5740\\n{{website}}\\n\\u66f4\\u591a\\u8cc7\\u8a0a\\n\\uff0c\\u4ee5\\u53ca\\u9999\\u6e2f\\u7b2c\\u4e09\\u9ad8\\u5c71\\u5cf0\\u6240\\u5728\\u7684\\u5927\\u6771\\u5c71\\uff0c\\u6cbf\\u9014\\u53ef\\u4ee5\\u4fef\\u77b0\\u58ef\\u9e97\\u666f\\u8272\\u3002\\u767b\\u5c71\\u5f8c\\u518d\\u5230\\u6c34\\u6e05\\u6c99\\u5e7c\\u7684 \\u5927\\u6d6a\\u7063\\u6cf3\\u7058\\n\\u524d\\u5f80\\n{{title}}\\n{{taRatingReviewTotal}} {{taRatingReviewText}}\\n\\u5730\\u5740\\n{{address}}\\n\\u7db2\\u5740\\n{{website}}\\n\\u66f4\\u591a\\u8cc7\\u8a0a\\n\\u6216\\u77f3\\u6fb3\\u6cf3\\u7058\\u7528\\u9910\\uff0c\\u7d50\\u675f\\u89aa\\u89aa\\u90ca\\u91ce\\u7684\\u7da0\\u8272\\u4e4b\\u65c5\\u3002\\n\\u53c3\\u89c0\\u5929\\u58c7\\u5927\\u4f5b\\n\\u5929\\u58c7\\u5927\\u4f5b\\n\\u524d\\u5f80\\n{{title}}\\n{{taRatingReviewTotal}} {{taRatingReviewText}}\\n\\u5730\\u5740\\n{{address}}\\n\\u7db2\\u5740\\n{{website}}\\n\\u66f4\\u591a\\u8cc7\\u8a0a\\n\\u8073\\u7acb\\u5728\\u5c71\\u4e0a\\uff0c\\u8d70\\u4e0a268\\u7d1a\\u6a13\\u68af\\uff0c\\u624d\\u80fd\\u5230\\u9054\\u9019\\u5ea734\\u516c\\u5c3a\\u9ad8\\u7684\\u6236\\u5916\\u9752\\u9285\\u5750\\u4f5b\\u50cf\\u9762\\u524d\\u3002\\u96d6\\u7136\\u722c\\u6a13\\u68af\\u80af\\u5b9a\\u4e0d\\u8f15\\u9b06\\uff0c\\u4f46\\u7576\\u4f60\\u770b\\u5230\\u838a\\u56b4\\u5b8f\\u5049\\u7684\\u5927\\u4f5b\\u6642\\uff0c\\u7d55\\u5c0d\\u4e0d\\u6789\\u6b64\\u884c\\u3002\\u4f86\\u5230\\u9019\\u88e1\\uff0c\\u4e0d\\u8981\\u932f\\u904e\\u9644\\u8fd1\\u7684\\u5bf6\\u84ee\\u79aa\\u5bfa\\uff0c\\u96e2\\u958b\\u6642\\u53ef\\u4ee5\\u4e58\\u5750\\u9023\\u63a5\\u6771\\u6d8c\\u5e02\\u4e2d\\u5fc3\\u53ca\\u6602\\u576a\\u7684 \\u6602\\u576a\\u7e9c\\u8eca\\n\\u524d\\u5f80\\n{{title}}\\n{{taRatingReviewTotal}} {{taRatingReviewText}}\\n\\u5730\\u5740\\n{{address}}\\n\\u7db2\\u5740\\n{{website}}\\n\\u66f4\\u591a\\u8cc7\\u8a0a\\n\\uff0c\\u5728\\u8eca\\u5ec2\\u88e1\\u98fd\\u89bd\\u5927\\u5dbc\\u5c71\\u7fa4\\u5c71\\u548c\\u6ce2\\u5149\\u7cbc\\u7cbc\\u7684\\u5357\\u4e2d\\u570b\\u6d77\\u666f\\u81f4\\u3002\\n\\u6c89\\u9189\\u4e0d\\u591c\\u57ce\\n\\u5165\\u591c\\u5f8c\\u7684\\u9999\\u6e2f\\u6108\\u591c\\u6108\\u71b1\\u9b27\\uff0c\\u8981\\u611f\\u53d7\\u4e0d\\u591c\\u57ce\\u7684\\u7121\\u7aae\\u6d3b\\u529b\\uff0c\\u4f60\\u53ef\\u4ee5\\u5148\\u5230\\u64c1\\u67094,500\\u544e\\u9732\\u53f0\\u7684Popinjays\\u773a\\u671b\\u4e2d\\u74b0\\u591c\\u666f\\uff0c\\u518d\\u5230\\u5f97\\u734e\\u58a8\\u897f\\u54e5\\u9152\\u5427 Coa\\n\\u524d\\u5f80\\n{{title}}\\n{{taRatingReviewTotal}} {{taRatingReviewText}}\\n\\u5730\\u5740\\n{{address}}\\n\\u7db2\\u5740\\n{{website}}\\n\\u66f4\\u591a\\u8cc7\\u8a0a\\n\\u4eab\\u7528\\u7279\\u8272\\u96de\\u5c3e\\u9152\\uff0c\\u6295\\u5165\\u9999\\u6e2f\\u7684\\u591c\\u751f\\u6d3b\\u3002\\u4f60\\u4e5f\\u53ef\\u4ee5\\u53bb\\u5361\\u62c9OK\\u5e97Red Mr\\u5927\\u5c55\\u6b4c\\u5589\\uff0c\\u6216\\u662f\\u5230 The Pontiac\\n\\u524d\\u5f80\\n{{title}}\\n{{taRatingReviewTotal}} {{taRatingReviewText}}\\n\\u5730\\u5740\\n{{address}}\\n\\u7db2\\u5740\\n{{website}}\\n\\u66f4\\u591a\\u8cc7\\u8a0a\\n\\u5fd8\\u6211\\u71b1\\u821e\\u3002\\u9084\\u4e0d\\u76e1\\u8208\\uff1fAmazonia\\u6709\\u6a02\\u968a\\u73fe\\u5834\\u6f14\\u594f\\u6416\\u6efe\\u540d\\u66f2\\uff0c\\u70ba\\u591c\\u665a\\u5283\\u4e0a\\u5b8c\\u7f8e\\u53e5\\u865f\\u3002\\n\\u98fd\\u89bd\\u9999\\u6e2f\\u5929\\u969b\\u7dda\\n\\u9999\\u6e2f\\u7684\\u5929\\u969b\\u7dda\\u8209\\u4e16\\u805e\\u540d\\uff0c\\u5728\\u54ea\\u88e1\\u624d\\u53ef\\u4ee5\\u98fd\\u89bd\\u58ef\\u89c0\\u7684\\u57ce\\u5e02\\u8f2a\\u5ed3\\uff1f\\u5c16\\u6c99\\u5480\\u661f\\u5149\\u5927\\u9053\\u662f\\u4e0d\\u932f\\u7684\\u9078\\u64c7\\u3002\\u5728\\u9019\\u88e1\\uff0c\\u4f60\\u53ef\\u4ee5\\u8b93\\u9999\\u6e2f\\u7f8e\\u666f\\u6210\\u70ba\\u4f60\\u7684\\u80cc\\u666f\\uff0c\\u76e1\\u60c5\\u5927\\u73a9\\u81ea\\u62cd\\uff01\\u6280\\u8853\\u597d\\u7684\\u8a71\\uff0c\\u66f4\\u53ef\\u4ee5\\u628a\\u674e\\u5c0f\\u9f8d\\u9285\\u50cf\\u4e00\\u8d77\\u651d\\u5165\\u93e1\\u982d\\u3002\\u665a\\u4e0a8:00\\u7dad\\u591a\\u5229\\u4e9e\\u6e2f\\u4e0a\\u6f14\\u7684\\u300c\\u5e7b\\u5f69\\u8a60\\u9999\\u6c5f\\u300d\\u71c8\\u5149\\u79c0\\uff0c\\u4ee4\\u666f\\u8272\\u66f4\\u898b\\u7480\\u74a8\\u3002\\u60f3\\u5f9e\\u53e6\\u4e00\\u500b\\u89d2\\u5ea6\\u6b23\\u8cde\\uff1f\\u5c31\\u53bb\\u7d05\\u78e1\\u548c\\u89c0\\u5858\\u7684\\u6d77\\u6ff1\\u6b65\\u9053\\uff1b\\u559c\\u6b61\\u975c\\u5fc3\\u770b\\u6d77\\u7684\\uff0c\\u53ef\\u4ee5\\u9078\\u64c7\\u5230\\u9bc9\\u9b5a\\u9580\\uff0c\\u50b3\\u7d71\\u6f01\\u6751\\u52a0\\u4e0a\\u5915\\u967d\\u9918\\u6689\\uff0c\\u4ee4\\u5929\\u969b\\u7dda\\u66f4\\u986f\\u8ff7\\u4eba\\u3002\\u6b64\\u5916\\uff0c\\u4e5f\\u63a8\\u85a6\\u4f60\\u524d\\u5f80 \\u5929\\u969b 100\\n\\u524d\\u5f80\\n{{title}}\\n{{taRatingReviewTotal}} {{taRatingReviewText}}\\n\\u5730\\u5740\\n{{address}}\\n\\u7db2\\u5740\\n{{website}}\\n\\u66f4\\u591a\\u8cc7\\u8a0a\\n\\u89c0\\u666f\\u53f0\\u6216 \\u9999\\u6e2f\\u6469\\u5929\\u8f2a\\n\\u524d\\u5f80\\n{{title}}\\n{{taRatingReviewTotal}} {{taRatingReviewText}}\\n\\u5730\\u5740\\n{{address}}\\n\\u7db2\\u5740\\n{{website}}\\n\\u66f4\\u591a\\u8cc7\\u8a0a\\n\\uff0c\\u4ee5\\u9ce5\\u77b0\\u8996\\u89d2\\u6b23\\u8cde\\u9999\\u6e2f\\u98a8\\u666f\\uff0c\\u53c8\\u662f\\u4e0d\\u4e00\\u6a23\\u7684\\u8996\\u89ba\\u4eab\\u53d7\\u3002\\n\\u73a9\\u8f49\\u4e3b\\u984c\\u516c\\u5712\\n\\u5230\\u6d77\\u6d0b\\u516c\\u5712\\u548c\\u9bca\\u9b5a\\u3001\\u4f01\\u9d5d\\u3001\\u718a\\u8c93\\u3001\\u7121\\u5c3e\\u718a\\u7b49\\u52d5\\u7269\\u898b\\u9762\\uff0c\\u5927\\u4eba\\u5c0f\\u5b69\\u90fd\\u6d41\\u9023\\u5fd8\\u8fd4\\u3002\\u5bb6\\u4e2d\\u5bf6\\u8c9d\\u6700\\u611b\\u7c73\\u5947\\uff1f\\u9999\\u6e2f\\u8fea\\u58eb\\u5c3c\\u6a02\\u5712\\u7684\\u4e03\\u5927\\u4e3b\\u984c\\u5712\\u5340\\u8b93\\u4f60\\u8d70\\u9032\\u7ae5\\u8a71\\u822c\\u7684\\u5922\\u5e7b\\u570b\\u5ea6\\uff0c\\u5c55\\u958b\\u4e00\\u6bb5\\u7cbe\\u91c7\\u523a\\u6fc0\\u7684\\u5192\\u96aa\\u65c5\\u7a0b\\uff01\\n\\u611f\\u53d7\\u8cfd\\u99ac\\u6c23\\u6c1b\\n\\u8cfd\\u99ac\\u65e9\\u662f\\u672c\\u5730\\u4eba\\u751f\\u6d3b\\u7684\\u4e00\\u90e8\\u5206\\u3002\\u6bcf\\u5e749\\u6708\\u81f3\\u7fcc\\u5e746\\u30017 \\u6708\\u662f\\u8cfd\\u99ac\\u5b63\\u7bc0\\uff0c\\u671f\\u9593\\u6bcf\\u9022\\u661f\\u671f\\u4e09\\u90fd\\u6703\\u770b\\u5230 \\u8dd1\\u99ac\\u5730\\u99ac\\u5834\\n\\u524d\\u5f80\\n{{title}}\\n{{taRatingReviewTotal}} {{taRatingReviewText}}\\n\\u5730\\u5740\\n{{address}}\\n\\u7db2\\u5740\\n{{website}}\\n\\u66f4\\u591a\\u8cc7\\u8a0a\\n\\u4eba\\u8072\\u9f0e\\u6cb8\\uff0c\\u4eba\\u4eba\\u70ba\\u81ea\\u5df1\\u5fc3\\u611b\\u7684\\u99ac\\u5339\\u559d\\u91c7\\u6253\\u6c23\\uff0c\\u6c23\\u6c1b\\u71be\\u71b1\\uff01\\u770b\\u8cfd\\u99ac\\u7684\\u5165\\u5834\\u9580\\u7968\\u4fbf\\u5b9c\\uff0c\\u5834\\u5167\\u98f2\\u54c1\\u98df\\u54c1\\u9f4a\\u5099\\uff0c\\u4f60\\u4e5f\\u4f86\\u8207\\u4e00\\u773e\\u99ac\\u8ff7\\u5927\\u8072\\u6b61\\u547c\\u5427\\uff01\\n\\uff08\\u5099\\u8a3b\\uff1a\\u5305\\u62ec\\u8dd1\\u99ac\\u5730\\u5728\\u5167\\u7684\\u99ac\\u5834\\u6216\\u6703\\u5be6\\u65bd\\u9650\\u5236\\u6216\\u9032\\u884c\\u7279\\u5225\\u5b89\\u6392\\uff0c\\u4e26\\u8981\\u6c42\\u4e8b\\u5148\\u9810\\u7d04\\u624d\\u80fd\\u5165\\u5834\\u3002\\u5230\\u8a2a\\u524d\\u8acb\\u67e5\\u770b\\u5b98\\u65b9\\u7db2\\u7ad9\\uff0c\\u4ee5\\u4e86\\u89e3\\u8a73\\u60c5\\u3002\\uff09\\n\\u6f2b\\u6b65\\u7279\\u8272\\u8857\\u5340\\n\\u57ce\\u4e2d\\u6700\\u65b0\\u77da\\u76ee\\u8857\\u5340\\u897f\\u4e5d\\u9f8d\\uff0c\\u628a\\u50b3\\u7d71\\u85dd\\u8853\\u3001\\u6b77\\u53f2\\u5efa\\u7bc9\\u3001\\u5730\\u9053\\u7f8e\\u98df\\u548c\\u8cfc\\u7269\\u9ad4\\u9a57\\uff0c\\u8207\\u4e16\\u754c\\u9802\\u7d1a\\u6587\\u5316\\u85dd\\u8853\\u5340\\u9023\\u7d50\\u8d77\\u4f86\\uff0c\\u7d66\\u4f60\\u8033\\u76ee\\u4e00\\u65b0\\u7684\\u904a\\u6e2f\\u9ad4\\u9a57\\u3002\\u300c\\u820a\\u57ce\\u4e2d\\u74b0\\u300d\\u6709\\u597d\\u591a\\u6545\\u4e8b\\u7b49\\u4f60\\u767c\\u6398\\uff0c\\u5305\\u62ec\\u5609\\u54b8\\u8857\\u5e02\\u5834\\u9644\\u8fd1\\u860a\\u542b\\u6df1\\u539a\\u6b77\\u53f2\\u7684\\u5efa\\u7bc9\\uff0c\\u4e00\\u78da\\u4e00\\u74e6\\u90fd\\u503c\\u5f97\\u7d30\\u5473\\u3002\\u81f3\\u65bc\\u6df1\\u6c34\\u57d7\\uff0c\\u6587\\u9752\\u5496\\u5561\\u5e97\\u3001\\u756b\\u5eca\\u548c\\u624b\\u4f5c\\u5c0f\\u5e97\\u7b49\\uff0c\\u70ba\\u9019\\u6a38\\u5be6\\u7684\\u820a\\u5340\\u5e36\\u4f86\\u4e0d\\u4e00\\u6a23\\u7684\\u5e74\\u8f15\\u6d3b\\u529b\\u548c\\u751f\\u6d3b\\u6c23\\u606f\\u3002\\u897f\\u8ca2\\u7684\\u6d77\\u908a\\u9910\\u5ef3\\u548c\\u6f01\\u6751\\uff0c\\u5247\\u70ba\\u4f60\\u5e36\\u4f86\\u4e00\\u4efd\\u606c\\u9038\\u3002\\n\\u672c\\u6587\\u6240\\u8ff0\\u8cc7\\u6599\\u6703\\u4e0d\\u6642\\u66f4\\u65b0\\uff0c\\u6055\\u4e0d\\u53e6\\u884c\\u9810\\u544a\\u3002\\u5982\\u6709\\u4efb\\u4f55\\u7591\\u554f\\uff0c\\u8acb\\u5411\\u6709\\u95dc\\u65b9\\u9762\\u67e5\\u8a62\\u3002\\n\\u9999\\u6e2f\\u65c5\\u904a\\u767c\\u5c55\\u5c40\\u5c0d\\u672c\\u6587\\u6240\\u8ff0\\u8cc7\\u6599\\uff0c\\u5305\\u62ec\\u5546\\u5e97\\u3001\\u9910\\u9928\\u3001\\u8ca8\\u54c1\\u53ca\\u670d\\u52d9\\u7b49\\u6982\\u4e0d\\u8ca0\\u8cac\\uff0c\\u4e26\\u5c0d\\u6b64\\u7b49\\u8cc7\\u6599\\uff0c\\u4e0d\\u4f5c\\u4efb\\u4f55\\u4fdd\\u8b49\\u6216\\u9673\\u8ff0\\uff0c\\u5305\\u62ec\\u5176\\u5546\\u696d\\u9069\\u7528\\u6027\\u3001\\u6e96\\u78ba\\u6027\\u3001\\u8db3\\u5920\\u6027\\u53ca\\u53ef\\u9760\\u6027\\u7b49\\u3002\\n\\u5ef6\\u4f38\\u95b1\\u8b80\\n\\u66f4\\u591a\\u63a8\\u85a6\\n{{post.type}}\\n\\u5de5\\u5177\\u5217\\u8868\\n\\u672c\\u670d\\u52a1\\u4f7f\\u7528cookies\\u53ca\\u5176\\u4ed6\\u5de5\\u5177\\u5e2e\\u52a9\\u533a\\u5206\\u60a8\\u4e0e\\u672c\\u670d\\u52a1\\u7684\\u5176\\u4ed6\\u7528\\u6237\\u3002\\u8fd9\\u6709\\u52a9\\u4e8e\\u6539\\u5584\\u672c\\u670d\\u52a1\\uff0c\\u5e76\\u4e3a\\u60a8\\u63d0\\u4f9b\\u66f4\\u4f73\\u7684\\u4f53\\u9a8c\\u3002\\u5f53\\u60a8\\u7ee7\\u7eed\\u4f7f\\u7528\\u672c\\u670d\\u52a1\\uff08\\u6216\\u5176\\u4efb\\u4f55\\u90e8\\u5206\\uff09\\uff0c\\u5373\\u8868\\u793a\\u60a8\\u540c\\u610f\\u6211\\u4eec\\u5728\\u60a8\\u7684\\u7535\\u8111\\u4e0a\\u653e\\u7f6ecookies\\u3002\\u6309\\u6b64\\u4e86\\u89e3\\u66f4\\u591a\\u6709\\u5173cookies\\u7684\\u8be6\\u60c5\\u3002\\nCookie \\u8a2d\\u5b9a\\nCookie \\u8a2d\\u5b9a \\u65b0\\u9bae\\u4e8b\\n\\u597d\\u53bb\\u8655\\n\\u8acb\\u8aaa\\n\\u4e0d\\u597d\\u610f\\u601d\\uff0c\\u6211\\u525b\\u525b\\u6c92\\u807d\\u6e05\\u695a\\u3002\\n\\u9999\\u6e2f\\u65c5\\u904a\\u767c\\u5c55\\u5c40\\n\\u9999\\u6e2f\\u65c5\\u904a\\u767c\\u5c55\\u5c40\\n\\u9999\\u6e2f\\u5341\\u5927\\u597d\\u73a9\\u666f\\u9ede\\n\\u9999\\u6e2f\\u64c1\\u6709\\u7121\\u7aae\\u7121\\u76e1\\u7684\\u65c5\\u904a\\u9ad4\\u9a57\\uff0c\\u4f60\\u53ef\\u4ee5\\u8e0f\\u8db3\\u767b\\u5c71\\u6b65\\u9053\\uff0c\\u89aa\\u8fd1\\u5927\\u81ea\\u7136\\uff1b\\u6f2b\\u6b65\\u9713\\u8679\\u71c8\\u9ede\\u7db4\\u7684\\u8857\\u9053\\uff0c\\u611f\\u53d7\\u5927\\u90fd\\u5e02\\u7684\\u7e41\\u83ef\\u3002\\u5f9e\\u53e4\\u8001\\u7684\\u5edf\\u5b87\\u5230\\u5bcc\\u73fe\\u4ee3\\u611f\\u7684\\u6469\\u5929\\u5927\\u6a13\\uff0c\\u7531\\u71b1\\u9b27\\u5e02\\u96c6\\u901b\\u5230\\u6d77\\u908a\\u6f01\\u6751\\uff0c\\u611f\\u53d7\\u4e0d\\u4e00\\u6a23\\u7684\\u98a8\\u60c5\\uff0c\\u6a02\\u8da3\\u7121\\u7aae\\u3002\\u4ee5\\u4e0b\\u5341\\u5927\\u5fc5\\u73a9\\u666f\\u9ede\\uff0c\\u99ac\\u4e0a\\u5e36\\u4f60\\u8d70\\u8d70\\uff01\\n\\u767b\\u592a\\u5e73\\u5c71\\u9802\\u9ce5\\u77b0\\u7dad\\u591a\\u5229\\u4e9e\\u6e2f\\n\\u60f3\\u64c1\\u6709\\u4e00\\u500b\\u795e\\u6e05\\u6c23\\u723d\\u7684\\u65e9\\u6668\\uff1f\\u90a3\\u9ebc\\u4e0d\\u59a8\\u65e9\\u8d77\\uff0c\\u5065\\u884c\\u4e0a\\u592a\\u5e73\\u5c71\\u9802\\u5427\\uff01\\u6668\\u904b\\u5f91\\u662f\\u767b\\u5c71\\u9802\\u7684\\u7406\\u60f3\\u8def\\u5f91\\uff0c\\u5230\\u9054\\u5c71\\u9802\\u5ee3\\u5834\\u4eab\\u7528\\u7f8e\\u98df\\uff0c\\u6b23\\u8cde\\u7dad\\u591a\\u5229\\u4e9e\\u6e2f\\u5169\\u5cb8\\u666f\\u8272\\uff0c\\u98a8\\u5149\\u512a\\u7f8e\\u50cf\\u660e\\u4fe1\\u7247\\u4e00\\u822c\\uff0c\\u4ee4\\u4eba\\u5fc3\\u66e0\\u795e\\u6021\\u3002\\u9664\\u4e86\\u5065\\u884c\\uff0c\\u5c71\\u9802\\u7e9c\\u8eca\\u662f\\u4e0d\\u5c11\\u4eba\\u671d\\u8056\\u5c71\\u9802\\u7684\\u65b9\\u6cd5\\uff0c\\u5750\\u4e0a\\u9019\\u500b\\u6b77\\u53f2\\u60a0\\u4e45\\u7684\\u4ea4\\u901a\\u5de5\\u5177\\uff0c\\u5728\\u7f8e\\u666f\\u966a\\u4f34\\u4e0b\\uff0c\\u4e0d\\u4e00\\u6703\\u5152\\u4fbf\\u5230\\u9054\\u5c71\\u9802\\u7ad9\\u3002\\u65e5\\u843d\\u6642\\u5206\\u5230\\u8a2a\\u53c8\\u662f\\u53e6\\u4e00\\u756a\\u666f\\u8c61\\uff0c\\u9019\\u6642\\u5019\\u5929\\u7a7a\\u6f38\\u6f38\\u8b8a\\u8272\\uff0c\\u662f\\u4e0d\\u53ef\\u932f\\u904e\\u7684\\u5922\\u5e7b\\u6642\\u523b\\uff0c\\u57ce\\u5e02\\u4e2d\\u842c\\u5bb6\\u71c8\\u706b\\u7684\\u666f\\u81f4\\uff0c\\u5b9a\\u80fd\\u8b93\\u4f60\\u6df1\\u6df1\\u611f\\u53d7\\u591c\\u9999\\u6e2f\\u7684\\u7f8e\\u3002\\n\\u54c1\\u5690\\u5730\\u9053\\u7f8e\\u98df\\n\\u758a\\u5f97\\u9ad8\\u9ad8\\u7684\\u7af9\\u7c60\\u9663\\u4e2d\\u64fa\\u653e\\u8457\\u9999\\u5674\\u5674\\u7684\\u9ede\\u5fc3\\uff0c\\u98a8\\u5473\\u6d0b\\u6ea2\\uff0c\\u53eb\\u4eba\\u7121\\u6cd5\\u6297\\u62d2\\uff01\"}, {\"url\": \"https://carolblog.tw/hongkong/\", \"content\": \"\\u672c\\u6587\\u4ecb\\u7d39\\u4e86\\u56db\\u6b21\\u9999\\u6e2f\\u81ea\\u7531\\u884c\\u7684\\u884c\\u7a0b\\u3001\\u666f\\u9ede\\u3001\\u7f8e\\u98df\\u3001\\u4ea4\\u901a\\u3001\\u4f4f\\u5bbf\\u548c\\u82b1\\u8cbb\\uff0c\\u5305\\u62ec\\u9999\\u6e2f\\u5cf6\\u3001\\u5927\\u5dbc\\u5c71\\u548c\\u65b0\\u754c\\u7684\\u5404\\u7a2e\\u666f\\u89c0\\u548c\\u7279\\u8272\\u3002\\u9069\\u5408\\u60f3\\u8981\\u524d\\u5f80\\u9999\\u6e2f\\u65c5\\u904a\\u7684\\u670b\\u53cb\\u53c3\\u8003\\uff0c\\u4e26\\u63d0\\u4f9b\\u4e86\\u9999\\u6e2f\\u7c3d\\u8b49\\u3001\\u96fb\\u58d3\\u3001\\u4e0a\\u7db2\\u7b49\\u5be6\\u7528\\u8cc7\\u8a0a\\u3002\"}]\n",
      "Assistant: 以下是一些去香港旅行的攻略建议：\n",
      "\n",
      "### 行程安排\n",
      "\n",
      "1. **太平山顶**：早起，健行上太平山顶吧！晨运是登山顶的理想路线，到达山顶广场享用美食，欣赏维多利亚港两湾景色，风光优美像明信片一般，令人心旷神怡。除了健行，山顶缆车是不少人朝圣山顶的方法，坐上这个历史悠久的交通工具，在美景陪伴下，不一會兒便到達山顶站。日落时分到访又是另一番景象，这时候天空渐渐变色，是不可错过的梦幻时刻，城市中万家灯火的景致，定能让你深深感受夜香港的美。\n",
      "\n",
      "2. **天际100**：观景台或 香港摩天轮，以鸟瞰视角欣赏香港风景，又是不一样的视觉享受。\n",
      "\n",
      "3. **品尝地道美食**：在得高高高的竹棚阵中摆放着香喷喷的点心，风味洋溢，叫人无法抗拒！\n",
      "\n",
      "4. **感受赛马气氛**：每年9月至翌年6、7 月是赛马季节，期间每逢星期三都会看到 跑马地马场 人声鼎沸，人人为自己心仪的马匹喝采打气，气氛热烈！看赛马的入场门票便宜，场内餐饮食品齐备，你也可以与众马迷大声欢呼吧！\n",
      "\n",
      "5. **漫步特色街区**：城中最新瞩目街区西九龙，把传统艺术、历史建筑、街道美食和购物体验，与世界顶级文化艺术区连接起来，给你耳目一新的游港体验。「旧城中环」有好多故事等你发掘，包括嘉咸街市集附近蕴含深厚历史建筑，一砖一瓦都值得细味。至于深水埗，文青咖啡店、画廊和手作小店等，为这实在的旧区带来不一样的年轻活力和生活气息。西贡的海边餐厅和渔村，则为带来一份闲逸。\n",
      "\n",
      "### 必玩景点\n",
      "\n",
      "- **登太平山顶顶鸟瞰维多利亚港**\n",
      "- **品嚐地道美食**\n",
      "- **感受赛马气氛**\n",
      "- **漫步特色街区**\n",
      "\n",
      "### 实用信息\n",
      "\n",
      "- **香港签证**：请查看相关签证信息。\n",
      "- **电压**：香港使用220伏特电压，插座为英式三脚插座。\n",
      "- **上网**：香港大部分地区都有免费Wi-Fi覆盖，也可以购买本地SIM卡或使用国际漫游服务。\n",
      "\n",
      "希望这些信息能帮助你更好地规划你的香港之旅！\n"
     ]
    },
    {
     "name": "stdin",
     "output_type": "stream",
     "text": [
      "User:  查询姚明n ba\n"
     ]
    },
    {
     "name": "stdout",
     "output_type": "stream",
     "text": [
      "Assistant: \n",
      "Assistant: [{\"url\": \"https://www.espn.com/nba/player/stats/_/id/1722/yao-ming\", \"content\": \"Complete career NBA stats for the Houston Rockets Center Yao Ming on ESPN. Includes points, rebounds, and assists.\"}, {\"url\": \"https://www.britannica.com/biography/Yao-Ming\", \"content\": \"However, he suffered a series of broken bones in his legs and feet over the course of his first seven years with the Rockets, and his 2008\\u201309 season ended during the play-offs as the result of a broken foot, which then failed to heal properly. In the 2002\\u201303 season he was voted by fans to start for the Western Conference in the All-Star Game and was a unanimous selection to the league\\u2019s All-Rookie team. Yao returned for five games at the start of the 2010\\u201311 season before suffering a stress fracture in his ankle, and he was sidelined for the remainder of the season. A media favourite, Yao was a pitchman for numerous companies and was the focus of the NBA\\u2019s efforts to popularize the league around the globe. Although the Rockets narrowly missed making the NBA play-offs in 2003, Yao helped lead the team to a 43\\u201339 record\\u2014an impressive turnaround from the Rockets\\u2019 28\\u201354 record just one season earlier.\"}]\n",
      "Assistant: 姚明（Yao Ming）是一位中国职业篮球运动员，曾效力于NBA的休斯顿火箭队（Houston Rockets）。他在2002年至2011年间在NBA打球，期间因多次腿部和脚部骨折而影响了他的职业生涯。尽管如此，姚明在NBA的表现依然出色，曾多次入选全明星赛，并在2002-03赛季被选为NBA最佳新秀。姚明不仅在篮球场上表现出色，他还是一位媒体宠儿，为多家公司担任代言人，并成为NBA在全球推广的重要人物。\n"
     ]
    },
    {
     "name": "stdin",
     "output_type": "stream",
     "text": [
      "User:  q\n"
     ]
    },
    {
     "name": "stdout",
     "output_type": "stream",
     "text": [
      "Goodbye!\n"
     ]
    }
   ],
   "source": [
    "from langchain_core.messages import BaseMessage\n",
    "\n",
    "# 进入一个无限循环，用于模拟持续的对话\n",
    "while True:\n",
    "    # 获取用户输入\n",
    "    user_input = input(\"User: \")\n",
    "    \n",
    "    # 如果用户输入 \"quit\"、\"exit\" 或 \"q\"，则退出循环，结束对话\n",
    "    if user_input.lower() in [\"quit\", \"exit\", \"q\"]:\n",
    "        print(\"Goodbye!\")  # 打印告别语\n",
    "        break  # 退出循环\n",
    "\n",
    "    # 使用 graph.stream 处理用户输入，并生成机器人的回复\n",
    "    # \"messages\" 列表中包含用户的输入，传递给对话系统\n",
    "    for event in graph.stream({\"messages\": [(\"user\", user_input)]}):\n",
    "        \n",
    "        # 遍历 event 的所有值，检查是否是 BaseMessage 类型的消息\n",
    "        for value in event.values():\n",
    "            if isinstance(value[\"messages\"][-1], BaseMessage):\n",
    "                # 如果消息是 BaseMessage 类型，则打印机器人的回复\n",
    "                print(\"Assistant:\", value[\"messages\"][-1].content)\n"
   ]
  },
  {
   "cell_type": "code",
   "execution_count": null,
   "id": "21a37abd-062c-467e-939e-5756b3b52f8c",
   "metadata": {},
   "outputs": [],
   "source": [
    "------------"
   ]
  },
  {
   "cell_type": "markdown",
   "id": "31f64614",
   "metadata": {},
   "source": [
    "\n",
    "## 搜索引擎工具赋能前后对比\n",
    "\n",
    "下面对比使用 搜索引擎工具前后，chatbot 生成结果对比\n",
    "\n",
    "\n",
    "### 用户问题\n",
    "\n",
    "```shell\n",
    "User:  详细介绍下 LangGraph 项目\n",
    "```\n",
    "\n",
    "### ChatBot + Web Search Tool（整合搜索结果后生成正确回答）\n",
    "\n",
    "```\n",
    "Assistant: LangGraph 是一个用于构建具有状态的、多参与者应用程序的库，特别是与大型语言模型（LLMs）结合使用。它主要用于创建代理和多代理工作流。与其他 LLM 框架相比，LangGraph 提供了一些核心优势，包括循环、可控性和持久性。\n",
    "\n",
    "### 主要特点\n",
    "1. **循环**：LangGraph 允许定义涉及循环的流程，这对大多数代理架构至关重要。\n",
    "2. **可控性**：用户可以更好地控制工作流的执行。\n",
    "3. **持久性**：能够保存状态，使得应用程序能够在不同的会话中保持一致性。\n",
    "\n",
    "LangGraph 的设计使其能够处理复杂的多代理环境，支持用户定义和管理参与者之间的交互。它基于有向无环图（DAG）的解决方案，使得构建和维护复杂工作流变得更加高效。\n",
    "\n",
    "### 资源链接\n",
    "- [LangGraph GitHub](https://github.com/langchain-ai/langgraph)\n",
    "- [LangGraph 官方文档](https://github.langchain.ac.cn/langgraph/)\n",
    "```\n",
    "\n",
    "### ChatBot-only（模型自己编造的 LangGraph 项目描述）\n",
    "\n",
    "```\n",
    "Assistant: LangGraph 是一个旨在推动自然语言处理（NLP）和图形结构数据结合的项目。它通常涉及将语言模型与图形数据结构相结合，以便更有效地处理和理解复杂的关系和语义信息。以下是 LangGraph 项目的一些关键要素：\n",
    "\n",
    "1. **目标与愿景**：\n",
    "   LangGraph 的主要目标是通过将语言理解与图形表示结合起来，增强机器对人类语言的理解能力。这种结合可以使机器更好地处理信息，识别和推理出不同实体之间的关系。\n",
    "\n",
    "2. **图形结构**：\n",
    "   在 LangGraph 中，图形结构通常用于表示实体及其之间的关系。这种结构可以是知识图谱、社交网络图或其他形式的图形数据，能够捕捉到丰富的语义信息。\n",
    "\n",
    "3. **语言模型**：\n",
    "   LangGraph 通常与先进的语言模型（如 BERT、GPT 等）集成，这些模型能够处理和生成自然语言文本。通过将语言模型与图形结构结合，LangGraph 可以在回答问题、信息检索和对话系统等任务中表现得更为出色。\n",
    "\n",
    "4. **应用场景**：\n",
    "   LangGraph 可以应用于多个领域，包括：\n",
    "   - **信息检索**：通过图谱增强搜索引擎的理解能力，提高检索结果的相关性。\n",
    "   - **对话系统**：改善虚拟助手和聊天机器人的对话能力，使其能够进行更自然和智能的交互。\n",
    "   - **知识管理**：在企业和组织中，通过图形结构更好地组织和管理知识。\n",
    "\n",
    "5. **研究与发展**：\n",
    "   LangGraph 还可能涉及大量的研究工作，包括图神经网络（GNN）、知识图谱的构建和更新、以及如何更好地将语言模型与图形数据结合的方法。\n",
    "\n",
    "6. **开源与社区**：\n",
    "   LangGraph 项目通常鼓励开源和社区参与，以促进技术的快速发展和应用。开发者和研究人员可以贡献代码、文档和其他资源，推动项目的进步。\n",
    "\n",
    "总之，LangGraph 是一个前沿项目，旨在通过将语言处理与图形数据结合，提升机器对自然语言的理解和处理能力。这一领域的发展将对人工智能和数据科学产生深远的影响。\n",
    "```"
   ]
  },
  {
   "cell_type": "markdown",
   "id": "c9fbba90-b3d2-4614-99f8-adad9b7e6c0f",
   "metadata": {},
   "source": [
    "------------\n",
    "\n",
    "# Homework: \n",
    "\n",
    "1. 运行和测试第1部分的聊天机器人（ChatBot-Only），并尝试找到一个其无法回答正确的事实性问题。\n",
    "1. 使用联网查询工具（如：Tavily），在第2部分的聊天机器人（ChatBot + Tool）上测试相同问题，并对比生成结果。 "
   ]
  },
  {
   "cell_type": "markdown",
   "id": "40e91d18-e480-41ea-95d2-e4f34f419d14",
   "metadata": {},
   "source": [
    "------\n",
    "\n",
    "##"
   ]
  },
  {
   "cell_type": "markdown",
   "id": "c82108f5",
   "metadata": {},
   "source": [
    "## 第 3 部分：为聊天机器人添加记忆功能\n",
    "\n",
    "目前机器人可以使用工具来回答问题，但它还无法记住之前的对话内容。为了解决这个问题，我们将为机器人添加记忆功能，让它能够维护对话状态并实现多轮对话。\n",
    "\n",
    "-----------"
   ]
  },
  {
   "cell_type": "markdown",
   "id": "e230fe85",
   "metadata": {},
   "source": [
    "`MemorySaver` 是 LangGraph 中的一个检查点机制（checkpointing），用于保存和恢复对话或任务执行的状态。通过 `MemorySaver`，我们可以在每个步骤后保存机器人的状态，并在之后恢复对话，允许机器人具有“记忆”功能，支持多轮对话、错误恢复、时间旅行等功能。\n",
    "\n",
    "### `MemorySaver` 的核心功能\n",
    "\n",
    "1. **状态持久化**：\n",
    "   - `MemorySaver` 以内存的形式保存对话或任务的当前状态。在每次状态图（StateGraph）执行时，`MemorySaver` 会记录执行到某个节点的状态，并将状态保存在内存中。\n",
    "   - 在实际应用中，可以替换成 `SqliteSaver` 或 `PostgresSaver`，将状态保存到数据库中，以便在系统重新启动后仍能恢复之前的对话。\n",
    "   - 参考文档：https://langchain-ai.github.io/langgraph/how-tos/persistence/\n",
    "\n",
    "2. **多轮对话支持**：\n",
    "   - 使用 `MemorySaver`，每次调用状态图时，都会将对话的上下文保存下来。当用户重新发送消息时，机器人可以加载先前的状态，继续进行对话，而不会丢失上下文。\n",
    "   - 例如，用户可以在多轮对话中提到之前的内容，机器人能够记住这些信息并做出相应的反应。\n",
    "\n",
    "3. **错误恢复**：\n",
    "   - 在任务执行过程中，如果发生了错误，`MemorySaver` 可以帮助机器人恢复到之前的状态，从而重试任务或采取其他措施来处理错误。\n",
    "   - 它可以让机器人在任务失败或异常时从上一次成功的状态继续执行，而无需从头开始。\n",
    "\n",
    "4. **时间旅行**：\n",
    "   - `MemorySaver` 还支持时间旅行功能。开发者可以回溯到之前的某个对话状态，从那个时间点继续执行不同的分支，这在调试和交互式应用中非常有用。\n",
    "   - 用户或开发者可以选择从某个保存的状态点重新开始，并探索不同的执行路径。\n",
    "\n",
    "### 使用场景\n",
    "\n",
    "- **对话系统**：当用户和机器人之间进行多轮对话时，机器人需要记住之前的消息和上下文，以便提供连续性的回复。`MemorySaver` 能帮助机器人保存对话的状态，并在下次调用时恢复先前的对话。\n",
    "  \n",
    "- **任务执行系统**：在复杂任务执行流程中，如果发生中断或错误，`MemorySaver` 能帮助系统从最近的检查点恢复，继续完成未完成的任务。\n",
    "\n",
    "- **调试与实验**：开发者可以通过保存多个状态检查点，回溯到不同的状态节点，进行调试或探索不同的对话分支和执行路径。\n",
    "\n",
    "### 代码示例\n",
    "\n",
    "```python\n",
    "from langgraph.checkpoint.memory import MemorySaver\n",
    "\n",
    "# 创建内存检查点\n",
    "memory = MemorySaver()\n",
    "\n",
    "# 在编译图时，将 MemorySaver 作为检查点传递\n",
    "graph = graph_builder.compile(checkpointer=memory)\n",
    "\n",
    "# 执行状态图，保存当前对话的状态\n",
    "config = {\"configurable\": {\"thread_id\": \"1\"}}\n",
    "events = graph.stream({\"messages\": [(\"user\", \"Hi, what's the weather today?\")]}, config)\n",
    "\n",
    "# 在下次调用时，从内存检查点恢复对话状态\n",
    "events = graph.stream({\"messages\": [(\"user\", \"Can you tell me tomorrow's weather too?\")]}, config)\n",
    "```\n",
    "\n",
    "### 总结\n",
    "\n",
    "`MemorySaver` 是 LangGraph 中用于在内存中保存对话状态的机制，支持机器人的多轮对话、状态恢复和时间旅行等功能。它通过检查点机制，使机器人可以在任务或对话的不同阶段保存并恢复状态，从而提高对话系统的连续性和容错能力。\n"
   ]
  },
  {
   "cell_type": "markdown",
   "id": "2918a620",
   "metadata": {},
   "source": [
    "### 1. 创建 MemorySaver 检查点\n",
    "\n"
   ]
  },
  {
   "cell_type": "code",
   "execution_count": 20,
   "id": "f1093d11",
   "metadata": {},
   "outputs": [],
   "source": [
    "from langgraph.checkpoint.memory import MemorySaver\n",
    "\n",
    "# 创建内存检查点\n",
    "memory = MemorySaver()"
   ]
  },
  {
   "cell_type": "markdown",
   "id": "890ecf8c",
   "metadata": {},
   "source": [
    "\n"
   ]
  },
  {
   "cell_type": "code",
   "execution_count": null,
   "id": "0a522726-2a55-4b21-abee-0f3d132933fd",
   "metadata": {},
   "outputs": [],
   "source": [
    "### 2. 使用检查点编译图\n",
    "\n"
   ]
  },
  {
   "cell_type": "markdown",
   "id": "b436f151",
   "metadata": {},
   "source": [
    "在编译图时，我们将提供检查点功能，机器人可以在每个步骤中保存状态。\n",
    "\n"
   ]
  },
  {
   "cell_type": "code",
   "execution_count": 21,
   "id": "eaf106fd",
   "metadata": {},
   "outputs": [],
   "source": [
    "graph = graph_builder.compile(checkpointer=memory)"
   ]
  },
  {
   "cell_type": "code",
   "execution_count": 22,
   "id": "da903750-f00b-4208-8bb4-460a768843c9",
   "metadata": {},
   "outputs": [
    {
     "data": {
      "image/jpeg": "[encoded data removed]",
      "text/plain": [
       "<IPython.core.display.Image object>"
      ]
     },
     "metadata": {},
     "output_type": "display_data"
    }
   ],
   "source": [
    "display(Image(graph.get_graph().draw_mermaid_png()))"
   ]
  },
  {
   "cell_type": "markdown",
   "id": "8b0b3e5a",
   "metadata": {},
   "source": [
    "\n"
   ]
  },
  {
   "cell_type": "markdown",
   "id": "a04a076a",
   "metadata": {},
   "source": [
    "### 3. 执行聊天机器人\n",
    "\n",
    "我们仍然按照之前的方式执行机器人，只是这次它会在每一步保存对话状态。"
   ]
  },
  {
   "cell_type": "markdown",
   "id": "8fb3dfde",
   "metadata": {},
   "source": [
    "\n",
    "#### 代码解析\n",
    "\n",
    "1. **config 配置**：\n",
    "   - `config` 是一个包含对话线程信息的字典，用于指定本次对话的唯一线程 ID。在这个例子中，`thread_id` 被设置为 `\"1\"`，这意味着该对话会与该线程关联。\n",
    "   - 每个线程 ID 代表一个独立的对话流，使用 `MemorySaver` 时，机器人可以在同一个 `thread_id` 下记住对话的上下文。\n",
    "\n",
    "2. **用户输入消息**：\n",
    "   - `user_input` 表示用户的输入消息，在这里用户输入了 `\"Hi there! My name is Peng.\"`。这个消息将作为对话的起始消息传递给机器人。\n",
    "\n",
    "3. **graph.stream**：\n",
    "   - `graph.stream` 是用于执行状态图的函数。它会根据传入的消息和配置执行对话流程。\n",
    "   - `{\"messages\": [(\"user\", user_input)]}`：第一个参数包含用户的输入消息。消息格式是一个元组，`(\"user\", user_input)` 表示这是来自用户的消息。\n",
    "   - `config`：第二个参数指定对话的线程配置，这里使用 `{\"configurable\": {\"thread_id\": \"1\"}}`，表示这次对话属于线程 ID 为 `1` 的对话流。\n",
    "   - `stream_mode=\"values\"`：设置流模式为 `\"values\"`，表示返回消息中的内容数据。\n",
    "\n",
    "4. **遍历事件并打印消息**：\n",
    "   - `for event in events` 遍历每个从 `graph.stream` 中返回的事件，`event[\"messages\"][-1]` 获取每个事件中的最后一条消息。\n",
    "   - `pretty_print()`：调用消息对象的 `pretty_print()` 方法来格式化并打印消息的内容。这通常用于输出对话中的 AI 响应或工具调用结果。\n"
   ]
  },
  {
   "cell_type": "code",
   "execution_count": 23,
   "id": "6a3d3d84",
   "metadata": {},
   "outputs": [
    {
     "name": "stdout",
     "output_type": "stream",
     "text": [
      "================================\u001b[1m Human Message \u001b[0m=================================\n",
      "\n",
      "Hi there! My name is Peng.\n",
      "==================================\u001b[1m Ai Message \u001b[0m==================================\n",
      "\n",
      "Hello Peng! It's nice to meet you. How can I assist you today?\n"
     ]
    }
   ],
   "source": [
    "config = {\"configurable\": {\"thread_id\": \"1\"}}\n",
    "\n",
    "# 用户输入的消息\n",
    "user_input = \"Hi there! My name is Peng.\"\n",
    "\n",
    "# 第二个参数 config 用于设置对话线程 ID\n",
    "# 在这里，\"thread_id\" 是唯一标识符，用于保存和区分对话线程。\n",
    "# 每个对话线程的状态将由 MemorySaver 保存下来，因此可以跨多轮对话继续进行。\n",
    "events = graph.stream(\n",
    "    {\"messages\": [(\"user\", user_input)]},  # 第一个参数传入用户的输入消息，消息格式为 (\"user\", \"输入内容\")\n",
    "    config,  # 第二个参数用于指定线程配置，包含线程 ID\n",
    "    stream_mode=\"values\"  # stream_mode 设置为 \"values\"，表示返回流式数据的值\n",
    ")\n",
    "\n",
    "# 遍历每个事件，并打印最后一条消息的内容\n",
    "for event in events:\n",
    "    # 通过 pretty_print 打印最后一条消息的内容\n",
    "    event[\"messages\"][-1].pretty_print()"
   ]
  },
  {
   "cell_type": "markdown",
   "id": "4b24b166",
   "metadata": {},
   "source": [
    "\n"
   ]
  },
  {
   "cell_type": "markdown",
   "id": "c2a5dee8",
   "metadata": {},
   "source": [
    "在下次执行时，机器人将记住之前的对话内容：\n",
    "\n"
   ]
  },
  {
   "cell_type": "code",
   "execution_count": 25,
   "id": "95c7f93d",
   "metadata": {},
   "outputs": [
    {
     "name": "stdout",
     "output_type": "stream",
     "text": [
      "================================\u001b[1m Human Message \u001b[0m=================================\n",
      "\n",
      "Remember my name?\n",
      "==================================\u001b[1m Ai Message \u001b[0m==================================\n",
      "\n",
      "Of course, Peng! I remember your name. How can I assist you today?\n"
     ]
    }
   ],
   "source": [
    "user_input = \"Remember my name?\"\n",
    "\n",
    "events = graph.stream(\n",
    "    {\"messages\": [(\"user\", user_input)]},\n",
    "    config,\n",
    "    stream_mode=\"values\"\n",
    ")\n",
    "\n",
    "for event in events:\n",
    "    event[\"messages\"][-1].pretty_print()"
   ]
  },
  {
   "cell_type": "markdown",
   "id": "06a52aae",
   "metadata": {},
   "source": [
    "\n"
   ]
  },
  {
   "cell_type": "markdown",
   "id": "a53f7e73",
   "metadata": {},
   "source": [
    "通过这两步操作，您已经成功为机器人添加了对话记忆功能，它可以记住之前的交互，并在后续的对话中做出相应的回应。\n",
    "\n"
   ]
  },
  {
   "cell_type": "code",
   "execution_count": 24,
   "id": "8b8df867",
   "metadata": {},
   "outputs": [
    {
     "name": "stdout",
     "output_type": "stream",
     "text": [
      "================================\u001b[1m Human Message \u001b[0m=================================\n",
      "\n",
      "Hi there! My name is Peng.\n",
      "==================================\u001b[1m Ai Message \u001b[0m==================================\n",
      "\n",
      "Hello Peng! It's nice to meet you. How can I assist you today?\n"
     ]
    }
   ],
   "source": [
    "# 机器人仅记住同一个线程中的历史对话，尝试切换到线程2\n",
    "events = graph.stream(\n",
    "    {\"messages\": [(\"user\", user_input)]},\n",
    "    {\"configurable\": {\"thread_id\": \"2\"}},\n",
    "    stream_mode=\"values\",\n",
    ")\n",
    "for event in events:\n",
    "    event[\"messages\"][-1].pretty_print()"
   ]
  },
  {
   "cell_type": "markdown",
   "id": "ae90b143",
   "metadata": {},
   "source": [
    "\n"
   ]
  },
  {
   "cell_type": "markdown",
   "id": "f023df43",
   "metadata": {},
   "source": [
    "检查点让机器人可以记住对话状态，您可以通过 `get_state` 函数查看机器人当前的状态：\n",
    "\n"
   ]
  },
  {
   "cell_type": "code",
   "execution_count": 27,
   "id": "bb8b2464",
   "metadata": {},
   "outputs": [
    {
     "data": {
      "text/plain": [
       "StateSnapshot(values={'messages': [HumanMessage(content='Hi there! My name is Peng.', id='3fdc96df-3642-4502-b27e-bcd7d68c205f'), AIMessage(content='Hello Peng! How can I assist you today?', additional_kwargs={'refusal': None}, response_metadata={'token_usage': {'completion_tokens': 11, 'prompt_tokens': 87, 'total_tokens': 98}, 'model_name': 'gpt-4o-mini-2024-07-18', 'system_fingerprint': 'fp_483d39d857', 'finish_reason': 'stop', 'logprobs': None}, id='run-a94b40f6-7943-4ffe-9a06-523716ffd4a1-0', usage_metadata={'input_tokens': 87, 'output_tokens': 11, 'total_tokens': 98}), HumanMessage(content='Remember my name?', id='72324598-e56a-4aae-8e70-50a8cf399183'), AIMessage(content='Yes, I remember your name is Peng! How can I help you today?', additional_kwargs={'refusal': None}, response_metadata={'token_usage': {'completion_tokens': 17, 'prompt_tokens': 109, 'total_tokens': 126}, 'model_name': 'gpt-4o-mini-2024-07-18', 'system_fingerprint': 'fp_483d39d857', 'finish_reason': 'stop', 'logprobs': None}, id='run-fdf94b39-a06e-449d-962b-d572b9f3d6b2-0', usage_metadata={'input_tokens': 109, 'output_tokens': 17, 'total_tokens': 126})]}, next=(), config={'configurable': {'thread_id': '1', 'checkpoint_ns': '', 'checkpoint_id': '1ef6de7e-9d58-68ce-8004-2b6ef0769a7d'}}, metadata={'source': 'loop', 'writes': {'chatbot': {'messages': [AIMessage(content='Yes, I remember your name is Peng! How can I help you today?', additional_kwargs={'refusal': None}, response_metadata={'token_usage': {'completion_tokens': 17, 'prompt_tokens': 109, 'total_tokens': 126}, 'model_name': 'gpt-4o-mini-2024-07-18', 'system_fingerprint': 'fp_483d39d857', 'finish_reason': 'stop', 'logprobs': None}, id='run-fdf94b39-a06e-449d-962b-d572b9f3d6b2-0', usage_metadata={'input_tokens': 109, 'output_tokens': 17, 'total_tokens': 126})]}}, 'step': 4, 'parents': {}}, created_at='2024-09-08T13:40:29.973306+00:00', parent_config={'configurable': {'thread_id': '1', 'checkpoint_ns': '', 'checkpoint_id': '1ef6de7e-9928-62ed-8003-bcaa00c55c55'}}, tasks=())"
      ]
     },
     "execution_count": 27,
     "metadata": {},
     "output_type": "execute_result"
    }
   ],
   "source": [
    "snapshot = graph.get_state(config)\n",
    "snapshot"
   ]
  },
  {
   "cell_type": "markdown",
   "id": "9b33358b-945d-419e-acaa-11cb5eaccdd9",
   "metadata": {},
   "source": [
    "### 使用 Pandas 表格呈现状态\n",
    "\n",
    "对于其中的 messages 等结构化数据，可以将其转换为 Pandas DataFrame 进行展示。"
   ]
  },
  {
   "cell_type": "code",
   "execution_count": 28,
   "id": "6e7e6291-acef-44f5-97f6-fd542d16cc86",
   "metadata": {},
   "outputs": [
    {
     "data": {
      "text/html": [
       "<div>\n",
       "<style scoped>\n",
       "    .dataframe tbody tr th:only-of-type {\n",
       "        vertical-align: middle;\n",
       "    }\n",
       "\n",
       "    .dataframe tbody tr th {\n",
       "        vertical-align: top;\n",
       "    }\n",
       "\n",
       "    .dataframe thead th {\n",
       "        text-align: right;\n",
       "    }\n",
       "</style>\n",
       "<table border=\"1\" class=\"dataframe\">\n",
       "  <thead>\n",
       "    <tr style=\"text-align: right;\">\n",
       "      <th></th>\n",
       "      <th>content</th>\n",
       "      <th>message_id</th>\n",
       "      <th>type</th>\n",
       "      <th>token_usage</th>\n",
       "    </tr>\n",
       "  </thead>\n",
       "  <tbody>\n",
       "    <tr>\n",
       "      <th>0</th>\n",
       "      <td>Hi there! My name is Peng.</td>\n",
       "      <td>3fdc96df-3642-4502-b27e-bcd7d68c205f</td>\n",
       "      <td>HumanMessage</td>\n",
       "      <td>None</td>\n",
       "    </tr>\n",
       "    <tr>\n",
       "      <th>1</th>\n",
       "      <td>Hello Peng! How can I assist you today?</td>\n",
       "      <td>run-a94b40f6-7943-4ffe-9a06-523716ffd4a1-0</td>\n",
       "      <td>AIMessage</td>\n",
       "      <td>{'completion_tokens': 11, 'prompt_tokens': 87,...</td>\n",
       "    </tr>\n",
       "    <tr>\n",
       "      <th>2</th>\n",
       "      <td>Remember my name?</td>\n",
       "      <td>72324598-e56a-4aae-8e70-50a8cf399183</td>\n",
       "      <td>HumanMessage</td>\n",
       "      <td>None</td>\n",
       "    </tr>\n",
       "    <tr>\n",
       "      <th>3</th>\n",
       "      <td>Yes, I remember your name is Peng! How can I h...</td>\n",
       "      <td>run-fdf94b39-a06e-449d-962b-d572b9f3d6b2-0</td>\n",
       "      <td>AIMessage</td>\n",
       "      <td>{'completion_tokens': 17, 'prompt_tokens': 109...</td>\n",
       "    </tr>\n",
       "  </tbody>\n",
       "</table>\n",
       "</div>"
      ],
      "text/plain": [
       "                                             content  \\\n",
       "0                         Hi there! My name is Peng.   \n",
       "1            Hello Peng! How can I assist you today?   \n",
       "2                                  Remember my name?   \n",
       "3  Yes, I remember your name is Peng! How can I h...   \n",
       "\n",
       "                                   message_id          type  \\\n",
       "0        3fdc96df-3642-4502-b27e-bcd7d68c205f  HumanMessage   \n",
       "1  run-a94b40f6-7943-4ffe-9a06-523716ffd4a1-0     AIMessage   \n",
       "2        72324598-e56a-4aae-8e70-50a8cf399183  HumanMessage   \n",
       "3  run-fdf94b39-a06e-449d-962b-d572b9f3d6b2-0     AIMessage   \n",
       "\n",
       "                                         token_usage  \n",
       "0                                               None  \n",
       "1  {'completion_tokens': 11, 'prompt_tokens': 87,...  \n",
       "2                                               None  \n",
       "3  {'completion_tokens': 17, 'prompt_tokens': 109...  "
      ]
     },
     "execution_count": 28,
     "metadata": {},
     "output_type": "execute_result"
    }
   ],
   "source": [
    "import pandas as pd\n",
    "\n",
    "# 将消息内容转换为 DataFrame 显示\n",
    "messages = snapshot.values['messages']\n",
    "df = pd.DataFrame([{\n",
    "    'content': msg.content,\n",
    "    'message_id': msg.id,\n",
    "    'type': type(msg).__name__,\n",
    "    'token_usage': msg.response_metadata.get('token_usage') if hasattr(msg, 'response_metadata') else None\n",
    "} for msg in messages])\n",
    "\n",
    "df  # Jupyter 会自动渲染 DataFrame"
   ]
  },
  {
   "cell_type": "markdown",
   "id": "a2128bcb",
   "metadata": {},
   "source": [
    "\n"
   ]
  },
  {
   "cell_type": "markdown",
   "id": "16c557f8",
   "metadata": {},
   "source": [
    "---\n",
    "\n"
   ]
  },
  {
   "cell_type": "markdown",
   "id": "15417aa1",
   "metadata": {},
   "source": [
    "## 第 4 部分：引入人类审查\n",
    "\n"
   ]
  },
  {
   "cell_type": "markdown",
   "id": "55389548",
   "metadata": {},
   "source": [
    "有时机器人可能需要人类的介入来做出复杂决策，或者某些任务需要人类批准。LangGraph 支持这种“人类参与”的工作流，您可以在对话中加入人类审查。\n",
    "\n",
    "第4部分，主要展示了如何通过 LangGraph 进行多轮对话和工具调用，并且能够手动更新对话状态、插入工具调用的结果，之后继续执行对话。"
   ]
  },
  {
   "cell_type": "markdown",
   "id": "21516923",
   "metadata": {},
   "source": [
    "### 1. 编译图时添加中断\n",
    "\n"
   ]
  },
  {
   "cell_type": "markdown",
   "id": "22974e2c",
   "metadata": {},
   "source": [
    "我们可以通过 `interrupt_before` 参数，在工具节点执行之前中断对话，让人类有机会审查。\n",
    "\n",
    "\n",
    "**编译状态图**：\n",
    "   - `graph_builder.compile()` 用于编译状态图，生成可执行的 `CompiledGraph` 对象。\n",
    "   - `checkpointer=memory` 使用内存作为检查点保存对话状态。\n",
    "   - `interrupt_before=[\"tools\"]` 表示在执行 \"tools\" 节点之前中断，允许手动干预。"
   ]
  },
  {
   "cell_type": "code",
   "execution_count": 26,
   "id": "6a9dc7e7",
   "metadata": {},
   "outputs": [],
   "source": [
    "# 编译状态图，指定在工具节点之前进行中断\n",
    "graph = graph_builder.compile(\n",
    "    checkpointer=memory,  # 使用 MemorySaver 作为检查点系统\n",
    "    interrupt_before=[\"tools\"],  # 在进入 \"tools\" 节点前进行中断\n",
    ")"
   ]
  },
  {
   "cell_type": "code",
   "execution_count": 27,
   "id": "68c4a8ca-67cc-44a5-8ee3-3bb4167ae07b",
   "metadata": {},
   "outputs": [
    {
     "data": {
      "image/jpeg": "[encoded data removed]",
      "text/plain": [
       "<IPython.core.display.Image object>"
      ]
     },
     "metadata": {},
     "output_type": "display_data"
    }
   ],
   "source": [
    "display(Image(graph.get_graph().draw_mermaid_png()))"
   ]
  },
  {
   "cell_type": "markdown",
   "id": "c7a29fe2",
   "metadata": {},
   "source": [
    "\n"
   ]
  },
  {
   "cell_type": "markdown",
   "id": "cc93cf40",
   "metadata": {},
   "source": [
    "### 2. 执行对话并在工具调用前中断\n",
    "\n"
   ]
  },
  {
   "cell_type": "markdown",
   "id": "12c06a58",
   "metadata": {},
   "source": [
    "我们现在来执行对话，并在工具节点之前进行中断，以便人类介入。\n",
    "\n"
   ]
  },
  {
   "cell_type": "code",
   "execution_count": 28,
   "id": "e9bc5112",
   "metadata": {},
   "outputs": [
    {
     "name": "stdout",
     "output_type": "stream",
     "text": [
      "================================\u001b[1m Human Message \u001b[0m=================================\n",
      "\n",
      "我正在学习LangGraph。你能帮我做一些研究吗？\n",
      "==================================\u001b[1m Ai Message \u001b[0m==================================\n",
      "\n",
      "Of course! I'd be happy to help you with your research on LangGraph. Could you please provide me with more specific details or questions you have about LangGraph? This will help me gather the most relevant information for you.\n"
     ]
    }
   ],
   "source": [
    "# 用户输入的消息\n",
    "user_input = \"我正在学习LangGraph。你能帮我做一些研究吗？\"\n",
    "# 配置新的对话线程 ID，用于保存和恢复对话状态\n",
    "config = {\"configurable\": {\"thread_id\": \"3\"}}\n",
    "\n",
    "# 使用 stream 方法处理用户输入并返回事件\n",
    "events = graph.stream(\n",
    "    {\"messages\": [(\"user\", user_input)]},\n",
    "    config,\n",
    "    stream_mode=\"values\"\n",
    ")\n",
    "\n",
    "# 遍历每个事件并输出最后一条消息的内容\n",
    "for event in events:\n",
    "    if \"messages\" in event:\n",
    "        event[\"messages\"][-1].pretty_print()  # 打印消息内容"
   ]
  },
  {
   "cell_type": "markdown",
   "id": "10ea1621",
   "metadata": {},
   "source": [
    "\n"
   ]
  },
  {
   "cell_type": "markdown",
   "id": "f6a7db0f",
   "metadata": {},
   "source": [
    "检查图的状态，确认已经中断。\n",
    "\n",
    "**获取状态快照**：\n",
    "   - 使用 `graph.get_state(config)` 获取当前对话的状态快照。\n",
    "   - `snapshot.next` 显示下一个将要执行的节点（在中断时为 \"tools\" 节点）。"
   ]
  },
  {
   "cell_type": "code",
   "execution_count": 29,
   "id": "3894534a",
   "metadata": {},
   "outputs": [
    {
     "data": {
      "text/plain": [
       "()"
      ]
     },
     "execution_count": 29,
     "metadata": {},
     "output_type": "execute_result"
    }
   ],
   "source": [
    "# 获取当前对话的状态快照\n",
    "snapshot = graph.get_state(config)\n",
    "# 查看快照中下一个要执行的节点\n",
    "snapshot.next"
   ]
  },
  {
   "cell_type": "markdown",
   "id": "448e17fc-9ebb-407c-8d8b-40c4dbb7f654",
   "metadata": {},
   "source": [
    "请注意，与上次不同，“下一个”节点被设置为'tools'。我们在这里中断了！让我们检查一下工具调用。"
   ]
  },
  {
   "cell_type": "code",
   "execution_count": 33,
   "id": "a568e527-28b7-412f-8a48-d22e4ad55d90",
   "metadata": {},
   "outputs": [
    {
     "data": {
      "text/plain": [
       "[{'name': 'tavily_search_results_json',\n",
       "  'args': {'query': 'LangGraph 研究'},\n",
       "  'id': 'call_7aNeaPmidh0QCdwFlI5eSUZy',\n",
       "  'type': 'tool_call'}]"
      ]
     },
     "execution_count": 33,
     "metadata": {},
     "output_type": "execute_result"
    }
   ],
   "source": [
    "existing_message = snapshot.values[\"messages\"][-1]\n",
    "existing_message.tool_calls"
   ]
  },
  {
   "cell_type": "markdown",
   "id": "95436842-b3fa-4e0e-80f9-eed3aaa8f709",
   "metadata": {},
   "source": [
    "这个查询看起来很合理。这里没有需要过滤的内容。人类能做的最简单的事情就是让图形继续执行。我们在下面这样做。\n",
    "\n",
    "**接下来，继续执行图！**\n",
    "\n",
    "传入 `None` 便是让图从它停止的地方继续，而不会向状态中添加任何新内容。"
   ]
  },
  {
   "cell_type": "code",
   "execution_count": 34,
   "id": "fd1c0708-cbf9-4040-8365-f2c162468689",
   "metadata": {},
   "outputs": [
    {
     "name": "stdout",
     "output_type": "stream",
     "text": [
      "==================================\u001b[1m Ai Message \u001b[0m==================================\n",
      "Tool Calls:\n",
      "  tavily_search_results_json (call_7aNeaPmidh0QCdwFlI5eSUZy)\n",
      " Call ID: call_7aNeaPmidh0QCdwFlI5eSUZy\n",
      "  Args:\n",
      "    query: LangGraph 研究\n",
      "=================================\u001b[1m Tool Message \u001b[0m=================================\n",
      "Name: tavily_search_results_json\n",
      "\n",
      "[{\"url\": \"https://zenn.dev/zenkigen_tech/articles/536801e61d0689\", \"content\": \"LangGraph\\u306eexamples\\u304b\\u3089\\u30a8\\u30fc\\u30b8\\u30a7\\u30f3\\u30c8\\u306e\\u4f5c\\u308a\\u65b9\\u3092\\u5b66\\u3076 ... \\u304b\\u3089\\u3001\\u30a2\\u30a4\\u30c7\\u30a2\\u5275\\u51fa\\u3001\\u5b9f\\u9a13\\u306e\\u5b9f\\u884c\\u3068\\u7d50\\u679c\\u306e\\u8981\\u7d04\\u3001\\u8ad6\\u6587\\u306e\\u57f7\\u7b46\\u3001\\u30d4\\u30a2\\u30ec\\u30d3\\u30e5\\u30fc\\u3068\\u3044\\u3063\\u305f\\u79d1\\u5b66\\u7814\\u7a76\\u306e\\u30b5\\u30a4\\u30af\\u30eb\\u3092\\u81ea\\u52d5\\u7684\\u306b\\u9042\\u884c\\u3059\\u308bAI\\u30b7\\u30b9\\u30c6\\u30e0\\u300cThe AI Scientist\\u300d\\u304c\\u767a\\u8868\\u3055\\u308c\\u8a71\\u984c\\u306b\\u306a\\u308a\\u307e\\u3057\\u305f\\u3002 ...\"}, {\"url\": \"https://python.langchain.ac.cn/docs/langgraph/\", \"content\": \"\\ud83e\\udd9c\\ud83d\\udd78\\ufe0fLangGraph. \\u26a1 Building language agents as graphs \\u26a1. Overview . LangGraph is a library for building stateful, multi-actor applications with LLMs, built on top of (and intended to be used with) LangChain.It extends the LangChain Expression Language with the ability to coordinate multiple chains (or actors) across multiple steps of computation in a cyclic manner.\"}]\n",
      "==================================\u001b[1m Ai Message \u001b[0m==================================\n",
      "\n",
      "关于LangGraph的研究，可以参考以下两个资源：\n",
      "\n",
      "1. [LangGraph的使用示例](https://zenn.dev/zenkigen_tech/articles/536801e61d0689)：这个链接提供了LangGraph的示例，包括如何进行实验以及应用的结果。它还讨论了如何在学术研究中应用LangGraph。\n",
      "\n",
      "2. [LangGraph的文档](https://python.langchain.ac.cn/docs/langgraph/)：这个文档介绍了LangGraph的概述和功能。LangGraph是一个用于构建有状态的多参与者应用程序的库，它建立在LangChain之上，旨在协调多个链（或参与者）在多个计算步骤中的操作。\n",
      "\n",
      "这些资源可以帮助你深入了解LangGraph的功能和应用场景。如果你有特定的问题或需要更详细的信息，请告诉我！\n"
     ]
    }
   ],
   "source": [
    "events = graph.stream(None, config, stream_mode=\"values\")\n",
    "for event in events:\n",
    "    if \"messages\" in event:\n",
    "        event[\"messages\"][-1].pretty_print()"
   ]
  },
  {
   "cell_type": "code",
   "execution_count": null,
   "id": "6db4ea6f-15cf-44b8-a47f-3c69a7943ec2",
   "metadata": {},
   "outputs": [],
   "source": []
  },
  {
   "cell_type": "markdown",
   "id": "347b87fc",
   "metadata": {},
   "source": [
    "### 3. 人工介入，修改工具执行结果"
   ]
  },
  {
   "cell_type": "markdown",
   "id": "7365a2b7",
   "metadata": {},
   "source": [
    "我们直接使用人工定义的内容，作为工具的返回结果。\n",
    "\n",
    "**手动插入工具调用结果**：\n",
    "   - 创建一个 `ToolMessage` 消息对象，内容是手动提供的工具调用结果，如 `\"LangGraph 是一个用于构建状态化、多参与者应用的库\"`。\n",
    "   - `tool_call_id` 使用之前的工具调用 ID 来关联这个工具调用消息。\n",
    "\n",
    "**更新状态**：\n",
    "   - 通过 `graph.update_state(config, {\"messages\": [tool_message]})` 手动更新对话状态，插入新的工具调用结果。\n",
    "\n",
    "**继续执行对话**：\n",
    "   - 使用 `graph.stream(None, config)` 继续执行对话，处理工具调用后的节点。\n",
    "   - 打印后续生成的消息，显示机器人对工具调用结果的响应。\n",
    "\n",
    "**工具调用最终输出是人工手动输入的内容**"
   ]
  },
  {
   "cell_type": "code",
   "execution_count": 35,
   "id": "c95a79df",
   "metadata": {},
   "outputs": [
    {
     "name": "stdout",
     "output_type": "stream",
     "text": [
      "=================================\u001b[1m Tool Message \u001b[0m=================================\n",
      "\n",
      "LangGraph 是一个用于构建状态化、多参与者应用的库。\n"
     ]
    }
   ],
   "source": [
    "# 手动生成一个工具调用的消息，并更新到对话状态中\n",
    "tool_message = ToolMessage(\n",
    "    content=\"LangGraph 是一个用于构建状态化、多参与者应用的库。\",  # 工具调用返回的内容\n",
    "    tool_call_id=snapshot.values[\"messages\"][-1].tool_calls[0][\"id\"]  # 关联工具调用的 ID\n",
    ")\n",
    "\n",
    "# 更新对话状态，加入工具调用的结果\n",
    "graph.update_state(config, {\"messages\": [tool_message]})\n",
    "\n",
    "# 继续执行对话，查看工具调用后的后续处理\n",
    "events = graph.stream(None, config, stream_mode=\"values\")\n",
    "\n",
    "for event in events:\n",
    "    event[\"messages\"][-1].pretty_print()  # 打印后续生成的消息内容"
   ]
  },
  {
   "cell_type": "markdown",
   "id": "5bbdf42b",
   "metadata": {},
   "source": [
    "---------\n",
    "\n",
    "## 第5部分： 查看 ChatBot 历史对话\n",
    "\n",
    "在 LangGraph 中，可以使用 `graph.get_state_history()` 来获取对话的所有历史状态。\n",
    "\n",
    "传入参数：`{\"configurable\": {\"thread_id\": \"1\"}}`，可以获取指定线程的对话状态。\n",
    "\n",
    "```python\n",
    "# 获取指定线程 ID 的所有历史状态\n",
    "history = graph.get_state_history({\"configurable\": {\"thread_id\": \"1\"}})\n",
    "\n",
    "# 遍历历史记录，打印每个状态中的所有消息\n",
    "for state in history:\n",
    "    print(\"=== 对话历史 ===\")\n",
    "    # 遍历每个状态中的消息记录\n",
    "    for message in state.values[\"messages\"]:\n",
    "        if isinstance(message, BaseMessage):\n",
    "            # 根据消息类型区分用户与机器人\n",
    "            if \"user\" in message.content.lower():\n",
    "                print(f\"User: {message.content}\")\n",
    "            else:\n",
    "                print(f\"Assistant: {message.content}\")\n",
    "```\n",
    "\n",
    "\n",
    "### **为什么不用 events 获取历史？**\n",
    "\n",
    "如果您使用 events，每次调用 graph.stream() 时，您只能获取当前的对话步骤，而不是之前的对话记录。要保留对话历史，您需要在每次获取 events 时将结果手动保存，这样会增加复杂度。\n",
    "\n",
    "\n",
    "### 对话历史去重\n",
    "\n",
    "直接运行上面的代码，可能会出现重复的对话历史。\n",
    "\n",
    "- **问题来源**：重复的状态快照和无消息的中间状态导致了多次重复的对话历史和空对话历史。\n",
    "\n",
    "为了处理这些问题，我们可以引入更严格的过滤条件，并确保只打印那些包含**新消息**或有效消息的状态。\n",
    "\n",
    "- **解决方案**：通过检查消息类型和 ID 来过滤无效和重复的消息，并只输出真正包含对话内容的状态快照。\n",
    "\n",
    "### 代码解析\n",
    "\n",
    "1. **`valid_messages` 列表**：这段代码检查每条消息是否是 `BaseMessage` 类型，同时确保该消息之前没有被处理过。如果消息符合这些条件，则被视为有效消息。\n",
    "\n",
    "2. **输出条件**：只有当存在有效消息时，才打印 `=== 对话历史 ===`，否则打印 `=== 空对话历史（无有效消息） ===`。\n",
    "\n",
    "3. **避免重复输出**：通过 `seen_message_ids` 集合来存储已经处理过的消息 ID，确保每条消息只被打印一次，防止重复输出。"
   ]
  },
  {
   "cell_type": "code",
   "execution_count": 36,
   "id": "f8e2fe74-4dd8-4cd8-9b30-2a34efaf53da",
   "metadata": {},
   "outputs": [
    {
     "name": "stdout",
     "output_type": "stream",
     "text": [
      "=== 对话历史 ===\n",
      "Assistant: 我正在学习LangGraph。你能帮我做一些研究吗？\n",
      "Assistant: \n",
      "Assistant: [{\"url\": \"https://zenn.dev/zenkigen_tech/articles/536801e61d0689\", \"content\": \"LangGraph\\u306eexamples\\u304b\\u3089\\u30a8\\u30fc\\u30b8\\u30a7\\u30f3\\u30c8\\u306e\\u4f5c\\u308a\\u65b9\\u3092\\u5b66\\u3076 ... \\u304b\\u3089\\u3001\\u30a2\\u30a4\\u30c7\\u30a2\\u5275\\u51fa\\u3001\\u5b9f\\u9a13\\u306e\\u5b9f\\u884c\\u3068\\u7d50\\u679c\\u306e\\u8981\\u7d04\\u3001\\u8ad6\\u6587\\u306e\\u57f7\\u7b46\\u3001\\u30d4\\u30a2\\u30ec\\u30d3\\u30e5\\u30fc\\u3068\\u3044\\u3063\\u305f\\u79d1\\u5b66\\u7814\\u7a76\\u306e\\u30b5\\u30a4\\u30af\\u30eb\\u3092\\u81ea\\u52d5\\u7684\\u306b\\u9042\\u884c\\u3059\\u308bAI\\u30b7\\u30b9\\u30c6\\u30e0\\u300cThe AI Scientist\\u300d\\u304c\\u767a\\u8868\\u3055\\u308c\\u8a71\\u984c\\u306b\\u306a\\u308a\\u307e\\u3057\\u305f\\u3002 ...\"}, {\"url\": \"https://python.langchain.ac.cn/docs/langgraph/\", \"content\": \"\\ud83e\\udd9c\\ud83d\\udd78\\ufe0fLangGraph. \\u26a1 Building language agents as graphs \\u26a1. Overview . LangGraph is a library for building stateful, multi-actor applications with LLMs, built on top of (and intended to be used with) LangChain.It extends the LangChain Expression Language with the ability to coordinate multiple chains (or actors) across multiple steps of computation in a cyclic manner.\"}]\n",
      "Assistant: 关于LangGraph的研究，可以参考以下两个资源：\n",
      "\n",
      "1. [LangGraph的使用示例](https://zenn.dev/zenkigen_tech/articles/536801e61d0689)：这个链接提供了LangGraph的示例，包括如何进行实验以及应用的结果。它还讨论了如何在学术研究中应用LangGraph。\n",
      "\n",
      "2. [LangGraph的文档](https://python.langchain.ac.cn/docs/langgraph/)：这个文档介绍了LangGraph的概述和功能。LangGraph是一个用于构建有状态的多参与者应用程序的库，它建立在LangChain之上，旨在协调多个链（或参与者）在多个计算步骤中的操作。\n",
      "\n",
      "这些资源可以帮助你深入了解LangGraph的功能和应用场景。如果你有特定的问题或需要更详细的信息，请告诉我！\n",
      "Assistant: LangGraph 是一个用于构建状态化、多参与者应用的库。\n",
      "=== 空对话历史（无有效消息） ===\n",
      "=== 空对话历史（无有效消息） ===\n",
      "=== 空对话历史（无有效消息） ===\n",
      "=== 空对话历史（无有效消息） ===\n",
      "=== 空对话历史（无有效消息） ===\n"
     ]
    }
   ],
   "source": [
    "# 获取指定线程 ID 的所有历史状态\n",
    "history = graph.get_state_history({\"configurable\": {\"thread_id\": \"3\"}})\n",
    "\n",
    "# 使用集合存储已处理过的消息 ID\n",
    "seen_message_ids = set()\n",
    "\n",
    "# 遍历历史记录，打印每个状态中的所有消息\n",
    "for state in history:\n",
    "    # 获取状态中的消息列表\n",
    "    messages = state.values.get(\"messages\", [])\n",
    "    \n",
    "    # 检查是否存在至少一条未处理的 BaseMessage 类型的消息\n",
    "    valid_messages = [msg for msg in messages if isinstance(msg, BaseMessage) and msg.id not in seen_message_ids]\n",
    "    \n",
    "    if valid_messages:\n",
    "        print(\"=== 对话历史 ===\")\n",
    "        for message in valid_messages:\n",
    "            seen_message_ids.add(message.id)  # 记录消息 ID，避免重复处理\n",
    "            if \"user\" in message.content.lower():\n",
    "                print(f\"User: {message.content}\")\n",
    "            else:\n",
    "                print(f\"Assistant: {message.content}\")\n",
    "    else:\n",
    "        print(\"=== 空对话历史（无有效消息） ===\")"
   ]
  },
  {
   "cell_type": "code",
   "execution_count": null,
   "id": "43681f46-8d20-4002-92c3-f121cd52a8a8",
   "metadata": {},
   "outputs": [],
   "source": []
  },
  {
   "cell_type": "code",
   "execution_count": null,
   "id": "5778ec5f-13e3-40f9-b17b-769e87e8980e",
   "metadata": {},
   "outputs": [],
   "source": []
  },
  {
   "attachments": {},
   "cell_type": "markdown",
   "id": "82f58d4f-87a7-4d5d-b962-553b66407812",
   "metadata": {},
   "source": [
    "# Homework: \n",
    "\n",
    "1. 运行和测试第1部分的聊天机器人（ChatBot-Only），并尝试找到一个其无法回答正确的事实性问题。\n",
    "1. 使用联网查询工具（如：Tavily），在第2部分的聊天机器人（ChatBot + Tool）上测试相同问题，并对比生成结果。 "
   ]
  },
  {
   "cell_type": "code",
   "execution_count": null,
   "id": "e0696cb2-16f9-4db0-a395-18e6246cea95",
   "metadata": {},
   "outputs": [],
   "source": []
  }
 ],
 "metadata": {
  "kernelspec": {
   "display_name": "Python (langgraph)",
   "language": "python",
   "name": "langgraph"
  },
  "language_info": {
   "codemirror_mode": {
    "name": "ipython",
    "version": 3
   },
   "file_extension": ".py",
   "mimetype": "text/x-python",
   "name": "python",
   "nbconvert_exporter": "python",
   "pygments_lexer": "ipython3",
   "version": "3.10.14"
  }
 },
 "nbformat": 4,
 "nbformat_minor": 5
}
